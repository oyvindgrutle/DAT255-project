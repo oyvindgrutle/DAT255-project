{
 "cells": [
  {
   "cell_type": "code",
   "execution_count": 1,
   "id": "b634ff91",
   "metadata": {},
   "outputs": [],
   "source": [
    "import librosa\n",
    "import librosa.display\n",
    "from IPython.display import Audio\n",
    "import matplotlib.pyplot as plt\n",
    "from pathlib import Path\n",
    "import os\n",
    "import pandas as pd\n",
    "import numpy as np\n",
    "from fastai.vision.all import *"
   ]
  },
  {
   "cell_type": "code",
   "execution_count": 2,
   "id": "cf3df657",
   "metadata": {},
   "outputs": [],
   "source": [
    "DATA = Path('../../data')\n",
    "URBAN_SOUND = DATA/'urban-sound'\n",
    "URBAN_SOUND_RECORDINGS = URBAN_SOUND/'data'\n",
    "#AUDIO_RECORDINGS = AUDIO_TAGGING/'audio_train'"
   ]
  },
  {
   "cell_type": "code",
   "execution_count": 3,
   "id": "b7cfc00e",
   "metadata": {},
   "outputs": [],
   "source": [
    "dst_path = URBAN_SOUND/'train'\n",
    "dst_path.mkdir(exist_ok=True)"
   ]
  },
  {
   "cell_type": "code",
   "execution_count": 4,
   "id": "609da016",
   "metadata": {},
   "outputs": [
    {
     "data": {
      "text/plain": [
       "(#5) [Path('../../data/urban-sound/train'),Path('../../data/urban-sound/data'),Path('../../data/urban-sound/FREESOUNDCREDITS.txt'),Path('../../data/urban-sound/.DS_Store'),Path('../../data/urban-sound/UrbanSound_README.txt')]"
      ]
     },
     "execution_count": 4,
     "metadata": {},
     "output_type": "execute_result"
    }
   ],
   "source": [
    "URBAN_SOUND.ls()"
   ]
  },
  {
   "cell_type": "code",
   "execution_count": 5,
   "id": "02dc30bf",
   "metadata": {
    "scrolled": true
   },
   "outputs": [
    {
     "data": {
      "text/plain": [
       "(#10) [Path('../../data/urban-sound/data/car_horn'),Path('../../data/urban-sound/data/jackhammer'),Path('../../data/urban-sound/data/siren'),Path('../../data/urban-sound/data/street_music'),Path('../../data/urban-sound/data/engine_idling'),Path('../../data/urban-sound/data/gun_shot'),Path('../../data/urban-sound/data/drilling'),Path('../../data/urban-sound/data/dog_bark'),Path('../../data/urban-sound/data/children_playing'),Path('../../data/urban-sound/data/air_conditioner')]"
      ]
     },
     "execution_count": 5,
     "metadata": {},
     "output_type": "execute_result"
    }
   ],
   "source": [
    "URBAN_SOUND_RECORDINGS.ls()"
   ]
  },
  {
   "cell_type": "code",
   "execution_count": 6,
   "id": "93a3cdec",
   "metadata": {},
   "outputs": [],
   "source": [
    "from pydub import AudioSegment\n",
    "from pydub.utils import which\n",
    "\n",
    "AudioSegment.converter = which(\"ffmpeg\")"
   ]
  },
  {
   "cell_type": "code",
   "execution_count": 7,
   "id": "966e222e",
   "metadata": {},
   "outputs": [
    {
     "name": "stdout",
     "output_type": "stream",
     "text": [
      "Duration before cut: 20.0\n",
      "Duration after cut: 10.0\n"
     ]
    }
   ],
   "source": [
    "children_playing = URBAN_SOUND_RECORDINGS/'street_music'\n",
    "children_playing.ls()\n",
    "sound = AudioSegment.from_file(children_playing/'7390.mp3')\n",
    "print(f'Duration before cut: {sound.duration_seconds}')\n",
    "s = sound[:10000]\n",
    "s.export(children_playing/'test.mp3', format='mp3')\n",
    "sound = AudioSegment.from_file(children_playing/'test.mp3')\n",
    "print(f'Duration after cut: {sound.duration_seconds}')"
   ]
  },
  {
   "cell_type": "markdown",
   "id": "3c20f4fa",
   "metadata": {},
   "source": [
    "import ffmpeg  \n",
    "children_playing = URBAN_SOUND_RECORDINGS/'street_music'\n",
    "ffmpeg.audio.a_split()\n",
    "audio_input = ffmpeg.input(children_playing/'7390.mp3')\n",
    "audio_cut = audio_input.audio.filter('atrim', duration=5)\n",
    "audio_output = ffmpeg.output(audio_cut, 'out.mp3')\n",
    "ffmpeg.run(audio_output)"
   ]
  },
  {
   "cell_type": "code",
   "execution_count": 8,
   "id": "e8bf9a13",
   "metadata": {},
   "outputs": [],
   "source": [
    "def mp3_to_wav():\n",
    "    for subdir, dirs, files in os.walk(URBAN_SOUND_RECORDINGS): ## cin\n",
    "        for file in files:\n",
    "            #print os.path.join(subdir, file)\n",
    "            filepath = subdir + os.sep + file\n",
    "            source_path = Path(subdir)\n",
    "            #print(filepath)\n",
    "            #print(file)\n",
    "\n",
    "            if filepath.endswith('.mp3'):\n",
    "                sound = AudioSegment.from_file(filepath)\n",
    "                sound.export(filepath, 'wav')"
   ]
  },
  {
   "cell_type": "code",
   "execution_count": 9,
   "id": "40587187",
   "metadata": {},
   "outputs": [],
   "source": [
    "#mp3_to_wav()"
   ]
  },
  {
   "cell_type": "code",
   "execution_count": 10,
   "id": "c85a2493",
   "metadata": {},
   "outputs": [],
   "source": [
    "import soundfile as sf"
   ]
  },
  {
   "cell_type": "code",
   "execution_count": 11,
   "id": "4e345671",
   "metadata": {},
   "outputs": [
    {
     "data": {
      "text/plain": [
       "('WAV', 'PCM_16', 'FILE')"
      ]
     },
     "execution_count": 11,
     "metadata": {},
     "output_type": "execute_result"
    }
   ],
   "source": [
    "f = sf.SoundFile(children_playing/'7390.mp3')\n",
    "f.format, f.subtype, f.endian"
   ]
  },
  {
   "cell_type": "code",
   "execution_count": 27,
   "id": "3270b353",
   "metadata": {},
   "outputs": [
    {
     "name": "stdout",
     "output_type": "stream",
     "text": [
      "Converted audio clips: 2\r"
     ]
    }
   ],
   "source": [
    "count = 0\n",
    "numRemoved = 0\n",
    "for subdir, dirs, files in os.walk(URBAN_SOUND_RECORDINGS):\n",
    "    for file in files:\n",
    "        #print os.path.join(subdir, file)\n",
    "        filepath = subdir + os.sep + file\n",
    "        source_path = Path(subdir)\n",
    "        #print(filepath)\n",
    "        #print(file)\n",
    "\n",
    "        if not filepath.endswith(('.csv', '.json','.DS_Store','.aif','.flac')):\n",
    "            try:\n",
    "                f = sf.SoundFile(filepath)\n",
    "            except:\n",
    "                os.remove(filepath) # Remove files with unsupoorted format\n",
    "                numRemoved += 1\n",
    "                print(f'Removed file: {file} | Removed files: {numRemoved}', end='/r')\n",
    "            else:\n",
    "                try:\n",
    "                    sound = AudioSegment.from_file(filepath)\n",
    "                    file_format = file.split(\".\")[-1]\n",
    "                    if sound.duration_seconds > 20:\n",
    "                        first_twenty = sound[:20000]\n",
    "                        first_twenty.export(filepath, format=file_format)\n",
    "                        count += 1\n",
    "                        print(f'Converted audio clips: {count}', end='\\r')\n",
    "                except:\n",
    "                    os.remove(filepath)\n",
    "                    numRemoved += 1\n",
    "                    print(f'Removed files: {numRemoved}', end='\\r')\n",
    "        else:\n",
    "            os.remove(filepath)\n",
    "            numRemoved += 1\n",
    "            print(f'Removed files: {numRemoved}', end='\\r')"
   ]
  },
  {
   "cell_type": "code",
   "execution_count": 26,
   "id": "a9eaf930",
   "metadata": {},
   "outputs": [
    {
     "name": "stdout",
     "output_type": "stream",
     "text": [
      "../../data/urban-sound/data/car_horn\n"
     ]
    }
   ],
   "source": [
    "count = 0\n",
    "numRemoved = 0\n",
    "for file in os.listdir(URBAN_SOUND_RECORDINGS):\n",
    "    "
   ]
  },
  {
   "cell_type": "code",
   "execution_count": 13,
   "id": "619cfe09",
   "metadata": {},
   "outputs": [],
   "source": [
    "def log_mel_spec_tfm(fname, label, src_path , dst_path):\n",
    "    data, sample_rate = librosa.load(src_path/fname)\n",
    "    \n",
    "    n_fft = 1024\n",
    "    hop_length = 512\n",
    "    n_mels = 80\n",
    "    fmin = 20\n",
    "    fmax = sample_rate / 2 \n",
    "    \n",
    "    mel_spec_power = librosa.feature.melspectrogram(data, sr=sample_rate, n_fft=n_fft, \n",
    "                                                    hop_length=hop_length, \n",
    "                                                    n_mels=n_mels, power=2.0, \n",
    "                                                    fmin=fmin, fmax=fmax)\n",
    "    \n",
    "    #mel_spec_power = librosa.feature.melspectrogram(x, sr=sample_rate)\n",
    "    \n",
    "    mel_spec_db = librosa.power_to_db(mel_spec_power, ref=np.max)\n",
    "        \n",
    "    dst_path = dst_path / label\n",
    "    dst_path.mkdir(exist_ok=True)\n",
    "    \n",
    "    dst_fname = dst_path / (fname[:-4] + '.png')\n",
    "    #print(dst_fname)\n",
    "    plt.imsave(dst_fname, mel_spec_db)"
   ]
  },
  {
   "cell_type": "code",
   "execution_count": 14,
   "id": "34f81631",
   "metadata": {},
   "outputs": [],
   "source": [
    "import warnings\n",
    "warnings.filterwarnings('ignore')"
   ]
  },
  {
   "cell_type": "code",
   "execution_count": 15,
   "id": "fcb8c2c0",
   "metadata": {},
   "outputs": [],
   "source": [
    "def convert_to_spec():\n",
    "    count = 0\n",
    "    for subdir, dirs, files in os.walk(URBAN_SOUND_RECORDINGS):\n",
    "        for file in files:\n",
    "            #print os.path.join(subdir, file)\n",
    "            filepath = subdir + os.sep + file\n",
    "            source_path = Path(subdir)\n",
    "            #print(filepath)\n",
    "            #print(file)\n",
    "            count += 1\n",
    "            if count % 10 == 0:\n",
    "                print(count, end='\\r')\n",
    "            label = subdir.split(\"/\")[-1]\n",
    "            #print(label)\n",
    "            log_mel_spec_tfm(file, label, source_path, dst_path)"
   ]
  },
  {
   "cell_type": "code",
   "execution_count": 16,
   "id": "8a67c62a",
   "metadata": {},
   "outputs": [],
   "source": [
    "#convertto_spec()"
   ]
  },
  {
   "cell_type": "code",
   "execution_count": null,
   "id": "02775a8f",
   "metadata": {},
   "outputs": [],
   "source": []
  }
 ],
 "metadata": {
  "kernelspec": {
   "display_name": "tfx",
   "language": "python",
   "name": "tfx"
  },
  "language_info": {
   "codemirror_mode": {
    "name": "ipython",
    "version": 3
   },
   "file_extension": ".py",
   "mimetype": "text/x-python",
   "name": "python",
   "nbconvert_exporter": "python",
   "pygments_lexer": "ipython3",
   "version": "3.8.13"
  }
 },
 "nbformat": 4,
 "nbformat_minor": 5
}
