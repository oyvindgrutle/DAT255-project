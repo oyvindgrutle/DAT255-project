{
 "cells": [
  {
   "cell_type": "code",
   "execution_count": 1,
   "id": "b634ff91",
   "metadata": {},
   "outputs": [],
   "source": [
    "import librosa\n",
    "import librosa.display\n",
    "from IPython.display import Audio\n",
    "import matplotlib.pyplot as plt\n",
    "from pathlib import Path\n",
    "import os\n",
    "import pandas as pd\n",
    "import numpy as np\n",
    "from fastai.vision.all import *"
   ]
  },
  {
   "cell_type": "code",
   "execution_count": 2,
   "id": "cf3df657",
   "metadata": {},
   "outputs": [],
   "source": [
    "DATA = Path('../../data')\n",
    "URBAN_SOUND = DATA/'urban-sound'\n",
    "URBAN_SOUND_RECORDINGS = URBAN_SOUND/'data'\n",
    "#AUDIO_RECORDINGS = AUDIO_TAGGING/'audio_train'"
   ]
  },
  {
   "cell_type": "code",
   "execution_count": 3,
   "id": "b7cfc00e",
   "metadata": {},
   "outputs": [],
   "source": [
    "dst_path = URBAN_SOUND/'train'\n",
    "dst_path.mkdir(exist_ok=True)"
   ]
  },
  {
   "cell_type": "code",
   "execution_count": 4,
   "id": "609da016",
   "metadata": {},
   "outputs": [
    {
     "data": {
      "text/plain": [
       "(#5) [Path('../../data/urban-sound/train'),Path('../../data/urban-sound/data'),Path('../../data/urban-sound/FREESOUNDCREDITS.txt'),Path('../../data/urban-sound/.DS_Store'),Path('../../data/urban-sound/UrbanSound_README.txt')]"
      ]
     },
     "execution_count": 4,
     "metadata": {},
     "output_type": "execute_result"
    }
   ],
   "source": [
    "URBAN_SOUND.ls()"
   ]
  },
  {
   "cell_type": "code",
   "execution_count": 5,
   "id": "02dc30bf",
   "metadata": {
    "scrolled": true
   },
   "outputs": [
    {
     "data": {
      "text/plain": [
       "(#11) [Path('../../data/urban-sound/data/car_horn'),Path('../../data/urban-sound/data/jackhammer'),Path('../../data/urban-sound/data/siren'),Path('../../data/urban-sound/data/street_music'),Path('../../data/urban-sound/data/engine_idling'),Path('../../data/urban-sound/data/gun_shot'),Path('../../data/urban-sound/data/.DS_Store'),Path('../../data/urban-sound/data/drilling'),Path('../../data/urban-sound/data/dog_bark'),Path('../../data/urban-sound/data/children_playing')...]"
      ]
     },
     "execution_count": 5,
     "metadata": {},
     "output_type": "execute_result"
    }
   ],
   "source": [
    "URBAN_SOUND_RECORDINGS.ls()"
   ]
  },
  {
   "cell_type": "code",
   "execution_count": 7,
   "id": "93a3cdec",
   "metadata": {},
   "outputs": [],
   "source": [
    "from pydub import AudioSegment"
   ]
  },
  {
   "cell_type": "code",
   "execution_count": 35,
   "id": "6437f3dc",
   "metadata": {},
   "outputs": [
    {
     "data": {
      "text/plain": [
       "<_io.BufferedRandom name='../../data/urban-sound/data/street_music/test.mp3'>"
      ]
     },
     "execution_count": 35,
     "metadata": {},
     "output_type": "execute_result"
    }
   ],
   "source": [
    "children_playing = URBAN_SOUND_RECORDINGS/'street_music'\n",
    "children_playing.ls()\n",
    "sound = AudioSegment.from_mp3(children_playing/'7390.mp3')\n",
    "sound.duration_seconds\n",
    "s = sound[:10000]\n",
    "s.export(children_playing/'test.mp3', format='mp3')"
   ]
  },
  {
   "cell_type": "code",
   "execution_count": 41,
   "id": "e8bf9a13",
   "metadata": {},
   "outputs": [],
   "source": [
    "for subdir, dirs, files in os.walk(URBAN_SOUND_RECORDINGS):\n",
    "    for file in files:\n",
    "        #print os.path.join(subdir, file)\n",
    "        filepath = subdir + os.sep + file\n",
    "        source_path = Path(subdir)\n",
    "        #print(filepath)\n",
    "        #print(file)\n",
    "\n",
    "        if filepath.endswith('.mp3'):\n",
    "            sound = AudioSegment.from_mp3(filepath)\n",
    "            sound.export(filepath, 'wav')"
   ]
  },
  {
   "cell_type": "code",
   "execution_count": 42,
   "id": "3270b353",
   "metadata": {},
   "outputs": [
    {
     "ename": "CouldntDecodeError",
     "evalue": "Decoding failed. ffmpeg returned error code: 69\n\nOutput from ffmpeg/avlib:\n\nffmpeg version 4.2.4-1ubuntu0.1 Copyright (c) 2000-2020 the FFmpeg developers\n  built with gcc 9 (Ubuntu 9.3.0-10ubuntu2)\n  configuration: --prefix=/usr --extra-version=1ubuntu0.1 --toolchain=hardened --libdir=/usr/lib/x86_64-linux-gnu --incdir=/usr/include/x86_64-linux-gnu --arch=amd64 --enable-gpl --disable-stripping --enable-avresample --disable-filter=resample --enable-avisynth --enable-gnutls --enable-ladspa --enable-libaom --enable-libass --enable-libbluray --enable-libbs2b --enable-libcaca --enable-libcdio --enable-libcodec2 --enable-libflite --enable-libfontconfig --enable-libfreetype --enable-libfribidi --enable-libgme --enable-libgsm --enable-libjack --enable-libmp3lame --enable-libmysofa --enable-libopenjpeg --enable-libopenmpt --enable-libopus --enable-libpulse --enable-librsvg --enable-librubberband --enable-libshine --enable-libsnappy --enable-libsoxr --enable-libspeex --enable-libssh --enable-libtheora --enable-libtwolame --enable-libvidstab --enable-libvorbis --enable-libvpx --enable-libwavpack --enable-libwebp --enable-libx265 --enable-libxml2 --enable-libxvid --enable-libzmq --enable-libzvbi --enable-lv2 --enable-omx --enable-openal --enable-opencl --enable-opengl --enable-sdl2 --enable-libdc1394 --enable-libdrm --enable-libiec61883 --enable-nvenc --enable-chromaprint --enable-frei0r --enable-libx264 --enable-shared\n  libavutil      56. 31.100 / 56. 31.100\n  libavcodec     58. 54.100 / 58. 54.100\n  libavformat    58. 29.100 / 58. 29.100\n  libavdevice    58.  8.100 / 58.  8.100\n  libavfilter     7. 57.100 /  7. 57.100\n  libavresample   4.  0.  0 /  4.  0.  0\n  libswscale      5.  5.100 /  5.  5.100\n  libswresample   3.  5.100 /  3.  5.100\n  libpostproc    55.  5.100 / 55.  5.100\n[mp3float @ 0x5629019fa3c0] Header missing\n    Last message repeated 61 times\n[mp3 @ 0x5629019f0700] Estimating duration from bitrate, this may be inaccurate\nInput #0, mp3, from '../../data/urban-sound/data/car_horn/178402.mp3':\n  Duration: 00:05:51.29, start: 0.000000, bitrate: 64 kb/s\n    Stream #0:0: Audio: mp3, 44100 Hz, stereo, fltp, 64 kb/s\nStream mapping:\n  Stream #0:0 -> #0:0 (mp3 (mp3float) -> pcm_s16le (native))\nPress [q] to stop, [?] for help\n[mp3float @ 0x5629019fb780] Header missing\nError while decoding stream #0:0: Invalid data found when processing input\n[mp3float @ 0x5629019fb780] Header missing\nError while decoding stream #0:0: Invalid data found when processing input\n[mp3float @ 0x5629019fb780] Header missing\nError while decoding stream #0:0: Invalid data found when processing input\n[mp3float @ 0x5629019fb780] Header missing\nError while decoding stream #0:0: Invalid data found when processing input\n[mp3float @ 0x5629019fb780] Header missing\nError while decoding stream #0:0: Invalid data found when processing input\n[mp3float @ 0x5629019fb780] Header missing\nError while decoding stream #0:0: Invalid data found when processing input\n[mp3float @ 0x5629019fb780] Header missing\nError while decoding stream #0:0: Invalid data found when processing input\n[mp3float @ 0x5629019fb780] Header missing\nError while decoding stream #0:0: Invalid data found when processing input\n[mp3float @ 0x5629019fb780] Header missing\nError while decoding stream #0:0: Invalid data found when processing input\n[mp3float @ 0x5629019fb780] Header missing\nError while decoding stream #0:0: Invalid data found when processing input\n[mp3float @ 0x5629019fb780] Header missing\nError while decoding stream #0:0: Invalid data found when processing input\n[mp3float @ 0x5629019fb780] Header missing\nError while decoding stream #0:0: Invalid data found when processing input\n[mp3float @ 0x5629019fb780] Header missing\nError while decoding stream #0:0: Invalid data found when processing input\n[mp3float @ 0x5629019fb780] Header missing\nError while decoding stream #0:0: Invalid data found when processing input\n[mp3float @ 0x5629019fb780] Header missing\nError while decoding stream #0:0: Invalid data found when processing input\n[mp3float @ 0x5629019fb780] Header missing\nError while decoding stream #0:0: Invalid data found when processing input\n[mp3float @ 0x5629019fb780] Header missing\nError while decoding stream #0:0: Invalid data found when processing input\n[mp3float @ 0x5629019fb780] Header missing\nError while decoding stream #0:0: Invalid data found when processing input\n[mp3float @ 0x5629019fb780] Header missing\nError while decoding stream #0:0: Invalid data found when processing input\n[mp3float @ 0x5629019fb780] Header missing\nError while decoding stream #0:0: Invalid data found when processing input\n[mp3float @ 0x5629019fb780] Header missing\nError while decoding stream #0:0: Invalid data found when processing input\n[mp3float @ 0x5629019fb780] Header missing\nError while decoding stream #0:0: Invalid data found when processing input\n[mp3float @ 0x5629019fb780] Header missing\nError while decoding stream #0:0: Invalid data found when processing input\n[mp3float @ 0x5629019fb780] Header missing\nError while decoding stream #0:0: Invalid data found when processing input\n[mp3float @ 0x5629019fb780] Header missing\nError while decoding stream #0:0: Invalid data found when processing input\n[mp3float @ 0x5629019fb780] Header missing\nError while decoding stream #0:0: Invalid data found when processing input\n[mp3float @ 0x5629019fb780] Header missing\nError while decoding stream #0:0: Invalid data found when processing input\n[mp3float @ 0x5629019fb780] Header missing\nError while decoding stream #0:0: Invalid data found when processing input\n[mp3float @ 0x5629019fb780] Header missing\nError while decoding stream #0:0: Invalid data found when processing input\n[mp3float @ 0x5629019fb780] Header missing\nError while decoding stream #0:0: Invalid data found when processing input\n[mp3float @ 0x5629019fb780] Header missing\nError while decoding stream #0:0: Invalid data found when processing input\n[mp3float @ 0x5629019fb780] Header missing\nError while decoding stream #0:0: Invalid data found when processing input\n[mp3float @ 0x5629019fb780] Header missing\nError while decoding stream #0:0: Invalid data found when processing input\n[mp3float @ 0x5629019fb780] Header missing\nError while decoding stream #0:0: Invalid data found when processing input\n[mp3float @ 0x5629019fb780] Header missing\nError while decoding stream #0:0: Invalid data found when processing input\n[mp3float @ 0x5629019fb780] Header missing\nError while decoding stream #0:0: Invalid data found when processing input\n[mp3float @ 0x5629019fb780] Header missing\nError while decoding stream #0:0: Invalid data found when processing input\n[mp3float @ 0x5629019fb780] Header missing\nError while decoding stream #0:0: Invalid data found when processing input\n[mp3float @ 0x5629019fb780] Header missing\nError while decoding stream #0:0: Invalid data found when processing input\n[mp3float @ 0x5629019fb780] Header missing\nError while decoding stream #0:0: Invalid data found when processing input\n[mp3float @ 0x5629019fb780] Header missing\nError while decoding stream #0:0: Invalid data found when processing input\n[mp3float @ 0x5629019fb780] Header missing\nError while decoding stream #0:0: Invalid data found when processing input\n[mp3float @ 0x5629019fb780] Header missing\nError while decoding stream #0:0: Invalid data found when processing input\n[mp3float @ 0x5629019fb780] Header missing\nError while decoding stream #0:0: Invalid data found when processing input\n[mp3float @ 0x5629019fb780] Header missing\nError while decoding stream #0:0: Invalid data found when processing input\n[mp3float @ 0x5629019fb780] Header missing\nError while decoding stream #0:0: Invalid data found when processing input\n[mp3float @ 0x5629019fb780] Header missing\nError while decoding stream #0:0: Invalid data found when processing input\n[mp3float @ 0x5629019fb780] Header missing\nError while decoding stream #0:0: Invalid data found when processing input\n[mp3float @ 0x5629019fb780] Header missing\nError while decoding stream #0:0: Invalid data found when processing input\n[mp3float @ 0x5629019fb780] Header missing\nError while decoding stream #0:0: Invalid data found when processing input\n[mp3float @ 0x5629019fb780] Header missing\nError while decoding stream #0:0: Invalid data found when processing input\n[mp3float @ 0x5629019fb780] Header missing\nError while decoding stream #0:0: Invalid data found when processing input\n[mp3float @ 0x5629019fb780] Header missing\nError while decoding stream #0:0: Invalid data found when processing input\n[mp3float @ 0x5629019fb780] Header missing\nError while decoding stream #0:0: Invalid data found when processing input\n[mp3float @ 0x5629019fb780] Header missing\nError while decoding stream #0:0: Invalid data found when processing input\n[mp3float @ 0x5629019fb780] Header missing\nError while decoding stream #0:0: Invalid data found when processing input\n[mp3float @ 0x5629019fb780] Header missing\nError while decoding stream #0:0: Invalid data found when processing input\n[mp3float @ 0x5629019fb780] Header missing\nError while decoding stream #0:0: Invalid data found when processing input\n[mp3float @ 0x5629019fb780] Header missing\nError while decoding stream #0:0: Invalid data found when processing input\n[mp3float @ 0x5629019fb780] Header missing\nError while decoding stream #0:0: Invalid data found when processing input\n[mp3float @ 0x5629019fb780] Header missing\nError while decoding stream #0:0: Invalid data found when processing input\n[mp3float @ 0x5629019fb780] Header missing\nError while decoding stream #0:0: Invalid data found when processing input\nOutput #0, wav, to 'pipe:':\n  Metadata:\n    ISFT            : Lavf58.29.100\n    Stream #0:0: Audio: pcm_s16le ([1][0][0][0] / 0x0001), 44100 Hz, stereo, s16, 1411 kb/s\n    Metadata:\n      encoder         : Lavc58.54.100 pcm_s16le\n[mp3float @ 0x5629019fb780] Header missing\nError while decoding stream #0:0: Invalid data found when processing input\n[mp3float @ 0x5629019fb780] Header missing\nError while decoding stream #0:0: Invalid data found when processing input\n[mp3float @ 0x5629019fb780] Header missing\nError while decoding stream #0:0: Invalid data found when processing input\n[mp3float @ 0x5629019fb780] Header missing\nError while decoding stream #0:0: Invalid data found when processing input\n[mp3float @ 0x5629019fb780] Header missing\nError while decoding stream #0:0: Invalid data found when processing input\n[mp3float @ 0x5629019fb780] Header missing\nError while decoding stream #0:0: Invalid data found when processing input\n[mp3float @ 0x5629019fb780] Header missing\nError while decoding stream #0:0: Invalid data found when processing input\n[mp3float @ 0x5629019fb780] Header missing\nError while decoding stream #0:0: Invalid data found when processing input\n[mp3float @ 0x5629019fb780] Header missing\nError while decoding stream #0:0: Invalid data found when processing input\n[mp3float @ 0x5629019fb780] Header missing\nError while decoding stream #0:0: Invalid data found when processing input\n[mp3float @ 0x5629019fb780] Header missing\nError while decoding stream #0:0: Invalid data found when processing input\n[mp3float @ 0x5629019fb780] Header missing\nError while decoding stream #0:0: Invalid data found when processing input\n[mp3float @ 0x5629019fb780] Header missing\nError while decoding stream #0:0: Invalid data found when processing input\n[mp3float @ 0x5629019fb780] Header missing\nError while decoding stream #0:0: Invalid data found when processing input\n[mp3float @ 0x5629019fb780] Header missing\nError while decoding stream #0:0: Invalid data found when processing input\n[mp3float @ 0x5629019fb780] Header missing\nError while decoding stream #0:0: Invalid data found when processing input\n[mp3float @ 0x5629019fb780] Header missing\nError while decoding stream #0:0: Invalid data found when processing input\n[mp3float @ 0x5629019fb780] Header missing\nError while decoding stream #0:0: Invalid data found when processing input\n[mp3float @ 0x5629019fb780] Header missing\nError while decoding stream #0:0: Invalid data found when processing input\n[mp3float @ 0x5629019fb780] Header missing\nError while decoding stream #0:0: Invalid data found when processing input\n[mp3float @ 0x5629019fb780] Header missing\nError while decoding stream #0:0: Invalid data found when processing input\n[mp3float @ 0x5629019fb780] Header missing\nError while decoding stream #0:0: Invalid data found when processing input\n[mp3float @ 0x5629019fb780] Header missing\nError while decoding stream #0:0: Invalid data found when processing input\n[mp3float @ 0x5629019fb780] Header missing\nError while decoding stream #0:0: Invalid data found when processing input\n[mp3float @ 0x5629019fb780] Header missing\nError while decoding stream #0:0: Invalid data found when processing input\n[mp3float @ 0x5629019fb780] Header missing\nError while decoding stream #0:0: Invalid data found when processing input\n[mp3float @ 0x5629019fb780] Header missing\nError while decoding stream #0:0: Invalid data found when processing input\n[mp3float @ 0x5629019fb780] Header missing\nError while decoding stream #0:0: Invalid data found when processing input\n[mp3float @ 0x5629019fb780] Header missing\nError while decoding stream #0:0: Invalid data found when processing input\n[mp3float @ 0x5629019fb780] Header missing\nError while decoding stream #0:0: Invalid data found when processing input\n[mp3float @ 0x5629019fb780] Header missing\nError while decoding stream #0:0: Invalid data found when processing input\n[mp3float @ 0x5629019fb780] Header missing\nError while decoding stream #0:0: Invalid data found when processing input\n[mp3float @ 0x5629019fb780] Header missing\nError while decoding stream #0:0: Invalid data found when processing input\n[mp3float @ 0x5629019fb780] Header missing\nError while decoding stream #0:0: Invalid data found when processing input\n[mp3float @ 0x5629019fb780] Header missing\nError while decoding stream #0:0: Invalid data found when processing input\n[mp3float @ 0x5629019fb780] Header missing\nError while decoding stream #0:0: Invalid data found when processing input\n[mp3float @ 0x5629019fb780] Header missing\nError while decoding stream #0:0: Invalid data found when processing input\n[mp3float @ 0x5629019fb780] Header missing\nError while decoding stream #0:0: Invalid data found when processing input\n[mp3float @ 0x5629019fb780] Header missing\nError while decoding stream #0:0: Invalid data found when processing input\n[mp3float @ 0x5629019fb780] Header missing\nError while decoding stream #0:0: Invalid data found when processing input\n[mp3float @ 0x5629019fb780] Header missing\nError while decoding stream #0:0: Invalid data found when processing input\n[mp3float @ 0x5629019fb780] Header missing\nError while decoding stream #0:0: Invalid data found when processing input\n[mp3float @ 0x5629019fb780] Header missing\nError while decoding stream #0:0: Invalid data found when processing input\n[mp3float @ 0x5629019fb780] Header missing\nError while decoding stream #0:0: Invalid data found when processing input\n[mp3float @ 0x5629019fb780] Header missing\nError while decoding stream #0:0: Invalid data found when processing input\n[mp3float @ 0x5629019fb780] Header missing\nError while decoding stream #0:0: Invalid data found when processing input\n[mp3float @ 0x5629019fb780] Header missing\nError while decoding stream #0:0: Invalid data found when processing input\n[mp3float @ 0x5629019fb780] Header missing\nError while decoding stream #0:0: Invalid data found when processing input\n[mp3float @ 0x5629019fb780] Header missing\nError while decoding stream #0:0: Invalid data found when processing input\n[mp3float @ 0x5629019fb780] Header missing\nError while decoding stream #0:0: Invalid data found when processing input\n[mp3float @ 0x5629019fb780] Header missing\nError while decoding stream #0:0: Invalid data found when processing input\n[mp3float @ 0x5629019fb780] Header missing\nError while decoding stream #0:0: Invalid data found when processing input\n[mp3float @ 0x5629019fb780] Header missing\nError while decoding stream #0:0: Invalid data found when processing input\n[mp3float @ 0x5629019fb780] Header missing\nError while decoding stream #0:0: Invalid data found when processing input\n[mp3float @ 0x5629019fb780] Header missing\nError while decoding stream #0:0: Invalid data found when processing input\n[mp3float @ 0x5629019fb780] Header missing\nError while decoding stream #0:0: Invalid data found when processing input\n[mp3float @ 0x5629019fb780] Header missing\nError while decoding stream #0:0: Invalid data found when processing input\n[mp3float @ 0x5629019fb780] Header missing\nError while decoding stream #0:0: Invalid data found when processing input\n[mp3float @ 0x5629019fb780] Header missing\nError while decoding stream #0:0: Invalid data found when processing input\n[mp3float @ 0x5629019fb780] Header missing\nError while decoding stream #0:0: Invalid data found when processing input\n[mp3float @ 0x5629019fb780] Header missing\nError while decoding stream #0:0: Invalid data found when processing input\n[mp3float @ 0x5629019fb780] Header missing\nError while decoding stream #0:0: Invalid data found when processing input\n[mp3float @ 0x5629019fb780] Header missing\nError while decoding stream #0:0: Invalid data found when processing input\n[mp3float @ 0x5629019fb780] Header missing\nError while decoding stream #0:0: Invalid data found when processing input\n[mp3float @ 0x5629019fb780] Header missing\nError while decoding stream #0:0: Invalid data found when processing input\n[mp3float @ 0x5629019fb780] Header missing\nError while decoding stream #0:0: Invalid data found when processing input\n[mp3float @ 0x5629019fb780] Header missing\nError while decoding stream #0:0: Invalid data found when processing input\n[mp3float @ 0x5629019fb780] Header missing\nError while decoding stream #0:0: Invalid data found when processing input\n[mp3float @ 0x5629019fb780] Header missing\nError while decoding stream #0:0: Invalid data found when processing input\n[mp3float @ 0x5629019fb780] Header missing\nError while decoding stream #0:0: Invalid data found when processing input\n[mp3float @ 0x5629019fb780] Header missing\nError while decoding stream #0:0: Invalid data found when processing input\n[mp3float @ 0x5629019fb780] Header missing\nError while decoding stream #0:0: Invalid data found when processing input\n[mp3float @ 0x5629019fb780] Header missing\nError while decoding stream #0:0: Invalid data found when processing input\n[mp3float @ 0x5629019fb780] Header missing\nError while decoding stream #0:0: Invalid data found when processing input\n[mp3float @ 0x5629019fb780] Header missing\nError while decoding stream #0:0: Invalid data found when processing input\n[mp3float @ 0x5629019fb780] Header missing\nError while decoding stream #0:0: Invalid data found when processing input\n[mp3float @ 0x5629019fb780] Header missing\nError while decoding stream #0:0: Invalid data found when processing input\n[mp3float @ 0x5629019fb780] Header missing\nError while decoding stream #0:0: Invalid data found when processing input\n[mp3float @ 0x5629019fb780] Header missing\nError while decoding stream #0:0: Invalid data found when processing input\n[mp3float @ 0x5629019fb780] Header missing\nError while decoding stream #0:0: Invalid data found when processing input\n[mp3float @ 0x5629019fb780] Header missing\nError while decoding stream #0:0: Invalid data found when processing input\n[mp3float @ 0x5629019fb780] Header missing\nError while decoding stream #0:0: Invalid data found when processing input\n[mp3float @ 0x5629019fb780] Header missing\nError while decoding stream #0:0: Invalid data found when processing input\n[mp3float @ 0x5629019fb780] Header missing\nError while decoding stream #0:0: Invalid data found when processing input\n[mp3float @ 0x5629019fb780] Header missing\nError while decoding stream #0:0: Invalid data found when processing input\n[mp3float @ 0x5629019fb780] Header missing\nError while decoding stream #0:0: Invalid data found when processing input\n[mp3float @ 0x5629019fb780] Header missing\nError while decoding stream #0:0: Invalid data found when processing input\n[mp3float @ 0x5629019fb780] Header missing\nError while decoding stream #0:0: Invalid data found when processing input\n[mp3float @ 0x5629019fb780] Header missing\nError while decoding stream #0:0: Invalid data found when processing input\n[mp3float @ 0x5629019fb780] Header missing\nError while decoding stream #0:0: Invalid data found when processing input\n[mp3float @ 0x5629019fb780] Header missing\nError while decoding stream #0:0: Invalid data found when processing input\n[mp3float @ 0x5629019fb780] Header missing\nError while decoding stream #0:0: Invalid data found when processing input\n[mp3float @ 0x5629019fb780] Header missing\nError while decoding stream #0:0: Invalid data found when processing input\n[mp3float @ 0x5629019fb780] Header missing\nError while decoding stream #0:0: Invalid data found when processing input\n[mp3float @ 0x5629019fb780] Header missing\nError while decoding stream #0:0: Invalid data found when processing input\n[mp3float @ 0x5629019fb780] Header missing\nError while decoding stream #0:0: Invalid data found when processing input\n[mp3float @ 0x5629019fb780] Header missing\nError while decoding stream #0:0: Invalid data found when processing input\n[mp3float @ 0x5629019fb780] Header missing\nError while decoding stream #0:0: Invalid data found when processing input\n[mp3float @ 0x5629019fb780] Header missing\nError while decoding stream #0:0: Invalid data found when processing input\n[mp3float @ 0x5629019fb780] Header missing\nError while decoding stream #0:0: Invalid data found when processing input\n[mp3float @ 0x5629019fb780] Header missing\nError while decoding stream #0:0: Invalid data found when processing input\n[mp3float @ 0x5629019fb780] Header missing\nError while decoding stream #0:0: Invalid data found when processing input\n[mp3float @ 0x5629019fb780] Header missing\nError while decoding stream #0:0: Invalid data found when processing input\n[mp3float @ 0x5629019fb780] Header missing\nError while decoding stream #0:0: Invalid data found when processing input\n[mp3float @ 0x5629019fb780] Header missing\nError while decoding stream #0:0: Invalid data found when processing input\n[mp3float @ 0x5629019fb780] Header missing\nError while decoding stream #0:0: Invalid data found when processing input\n[mp3float @ 0x5629019fb780] Header missing\nError while decoding stream #0:0: Invalid data found when processing input\n[mp3float @ 0x5629019fb780] Header missing\nError while decoding stream #0:0: Invalid data found when processing input\n[mp3float @ 0x5629019fb780] Header missing\nError while decoding stream #0:0: Invalid data found when processing input\n[mp3float @ 0x5629019fb780] Header missing\nError while decoding stream #0:0: Invalid data found when processing input\n[mp3float @ 0x5629019fb780] Header missing\nError while decoding stream #0:0: Invalid data found when processing input\n[mp3float @ 0x5629019fb780] Header missing\nError while decoding stream #0:0: Invalid data found when processing input\n[mp3float @ 0x5629019fb780] Header missing\nError while decoding stream #0:0: Invalid data found when processing input\n[mp3float @ 0x5629019fb780] Header missing\nError while decoding stream #0:0: Invalid data found when processing input\n[mp3float @ 0x5629019fb780] Header missing\nError while decoding stream #0:0: Invalid data found when processing input\n[mp3float @ 0x5629019fb780] Header missing\nError while decoding stream #0:0: Invalid data found when processing input\n[mp3float @ 0x5629019fb780] Header missing\nError while decoding stream #0:0: Invalid data found when processing input\n[mp3float @ 0x5629019fb780] Header missing\nError while decoding stream #0:0: Invalid data found when processing input\n[mp3float @ 0x5629019fb780] Header missing\nError while decoding stream #0:0: Invalid data found when processing input\n[mp3float @ 0x5629019fb780] Header missing\nError while decoding stream #0:0: Invalid data found when processing input\n[mp3float @ 0x5629019fb780] Header missing\nError while decoding stream #0:0: Invalid data found when processing input\n[mp3float @ 0x5629019fb780] Header missing\nError while decoding stream #0:0: Invalid data found when processing input\n[mp3float @ 0x5629019fb780] Header missing\nError while decoding stream #0:0: Invalid data found when processing input\n[mp3float @ 0x5629019fb780] Header missing\nError while decoding stream #0:0: Invalid data found when processing input\n[mp3float @ 0x5629019fb780] Header missing\nError while decoding stream #0:0: Invalid data found when processing input\n[mp3float @ 0x5629019fb780] Header missing\nError while decoding stream #0:0: Invalid data found when processing input\n[mp3float @ 0x5629019fb780] Header missing\nError while decoding stream #0:0: Invalid data found when processing input\n[mp3float @ 0x5629019fb780] Header missing\nError while decoding stream #0:0: Invalid data found when processing input\n[mp3float @ 0x5629019fb780] Header missing\nError while decoding stream #0:0: Invalid data found when processing input\n[mp3float @ 0x5629019fb780] Header missing\nError while decoding stream #0:0: Invalid data found when processing input\n[mp3float @ 0x5629019fb780] Header missing\nError while decoding stream #0:0: Invalid data found when processing input\n[mp3float @ 0x5629019fb780] Header missing\nError while decoding stream #0:0: Invalid data found when processing input\n[mp3float @ 0x5629019fb780] Header missing\nError while decoding stream #0:0: Invalid data found when processing input\n[mp3float @ 0x5629019fb780] Header missing\nError while decoding stream #0:0: Invalid data found when processing input\n[mp3float @ 0x5629019fb780] Header missing\nError while decoding stream #0:0: Invalid data found when processing input\n[mp3float @ 0x5629019fb780] Header missing\nError while decoding stream #0:0: Invalid data found when processing input\n[mp3float @ 0x5629019fb780] Header missing\nError while decoding stream #0:0: Invalid data found when processing input\n[mp3float @ 0x5629019fb780] Header missing\nError while decoding stream #0:0: Invalid data found when processing input\n[mp3float @ 0x5629019fb780] Header missing\nError while decoding stream #0:0: Invalid data found when processing input\n[mp3float @ 0x5629019fb780] Header missing\nError while decoding stream #0:0: Invalid data found when processing input\n[mp3float @ 0x5629019fb780] Header missing\nError while decoding stream #0:0: Invalid data found when processing input\n[mp3float @ 0x5629019fb780] Header missing\nError while decoding stream #0:0: Invalid data found when processing input\n[mp3float @ 0x5629019fb780] Header missing\nError while decoding stream #0:0: Invalid data found when processing input\n[mp3float @ 0x5629019fb780] Header missing\nError while decoding stream #0:0: Invalid data found when processing input\n[mp3float @ 0x5629019fb780] Header missing\nError while decoding stream #0:0: Invalid data found when processing input\n[mp3float @ 0x5629019fb780] Header missing\nError while decoding stream #0:0: Invalid data found when processing input\n[mp3float @ 0x5629019fb780] Header missing\nError while decoding stream #0:0: Invalid data found when processing input\nsize=       3kB time=00:00:03.82 bitrate=   6.6kbits/s speed= 184x    \nvideo:0kB audio:3kB subtitle:0kB other streams:0kB global headers:0kB muxing overhead: 2.539062%\nConversion failed!\n",
     "output_type": "error",
     "traceback": [
      "\u001b[0;31m---------------------------------------------------------------------------\u001b[0m",
      "\u001b[0;31mCouldntDecodeError\u001b[0m                        Traceback (most recent call last)",
      "\u001b[0;32m/tmp/ipykernel_167683/2391221477.py\u001b[0m in \u001b[0;36m<cell line: 2>\u001b[0;34m()\u001b[0m\n\u001b[1;32m      9\u001b[0m \u001b[0;34m\u001b[0m\u001b[0m\n\u001b[1;32m     10\u001b[0m         \u001b[0;32mif\u001b[0m \u001b[0;32mnot\u001b[0m \u001b[0mfilepath\u001b[0m\u001b[0;34m.\u001b[0m\u001b[0mendswith\u001b[0m\u001b[0;34m(\u001b[0m\u001b[0;34m(\u001b[0m\u001b[0;34m'.csv'\u001b[0m\u001b[0;34m,\u001b[0m \u001b[0;34m'.json'\u001b[0m\u001b[0;34m,\u001b[0m\u001b[0;34m'.DS_Store'\u001b[0m\u001b[0;34m,\u001b[0m\u001b[0;34m'.aif'\u001b[0m\u001b[0;34m,\u001b[0m\u001b[0;34m'.flac'\u001b[0m\u001b[0;34m)\u001b[0m\u001b[0;34m)\u001b[0m\u001b[0;34m:\u001b[0m\u001b[0;34m\u001b[0m\u001b[0;34m\u001b[0m\u001b[0m\n\u001b[0;32m---> 11\u001b[0;31m             \u001b[0msound\u001b[0m \u001b[0;34m=\u001b[0m \u001b[0mAudioSegment\u001b[0m\u001b[0;34m.\u001b[0m\u001b[0mfrom_mp3\u001b[0m\u001b[0;34m(\u001b[0m\u001b[0mfilepath\u001b[0m\u001b[0;34m)\u001b[0m\u001b[0;34m\u001b[0m\u001b[0;34m\u001b[0m\u001b[0m\n\u001b[0m\u001b[1;32m     12\u001b[0m             \u001b[0mfile_format\u001b[0m \u001b[0;34m=\u001b[0m \u001b[0mfile\u001b[0m\u001b[0;34m.\u001b[0m\u001b[0msplit\u001b[0m\u001b[0;34m(\u001b[0m\u001b[0;34m\".\"\u001b[0m\u001b[0;34m)\u001b[0m\u001b[0;34m[\u001b[0m\u001b[0;34m-\u001b[0m\u001b[0;36m1\u001b[0m\u001b[0;34m]\u001b[0m\u001b[0;34m\u001b[0m\u001b[0;34m\u001b[0m\u001b[0m\n\u001b[1;32m     13\u001b[0m             \u001b[0;32mif\u001b[0m \u001b[0msound\u001b[0m\u001b[0;34m.\u001b[0m\u001b[0mduration_seconds\u001b[0m \u001b[0;34m>\u001b[0m \u001b[0;36m20\u001b[0m\u001b[0;34m:\u001b[0m\u001b[0;34m\u001b[0m\u001b[0;34m\u001b[0m\u001b[0m\n",
      "\u001b[0;32m~/anaconda3/envs/tfx/lib/python3.8/site-packages/pydub/audio_segment.py\u001b[0m in \u001b[0;36mfrom_mp3\u001b[0;34m(cls, file, parameters)\u001b[0m\n\u001b[1;32m    794\u001b[0m     \u001b[0;34m@\u001b[0m\u001b[0mclassmethod\u001b[0m\u001b[0;34m\u001b[0m\u001b[0;34m\u001b[0m\u001b[0m\n\u001b[1;32m    795\u001b[0m     \u001b[0;32mdef\u001b[0m \u001b[0mfrom_mp3\u001b[0m\u001b[0;34m(\u001b[0m\u001b[0mcls\u001b[0m\u001b[0;34m,\u001b[0m \u001b[0mfile\u001b[0m\u001b[0;34m,\u001b[0m \u001b[0mparameters\u001b[0m\u001b[0;34m=\u001b[0m\u001b[0;32mNone\u001b[0m\u001b[0;34m)\u001b[0m\u001b[0;34m:\u001b[0m\u001b[0;34m\u001b[0m\u001b[0;34m\u001b[0m\u001b[0m\n\u001b[0;32m--> 796\u001b[0;31m         \u001b[0;32mreturn\u001b[0m \u001b[0mcls\u001b[0m\u001b[0;34m.\u001b[0m\u001b[0mfrom_file\u001b[0m\u001b[0;34m(\u001b[0m\u001b[0mfile\u001b[0m\u001b[0;34m,\u001b[0m \u001b[0;34m'mp3'\u001b[0m\u001b[0;34m,\u001b[0m \u001b[0mparameters\u001b[0m\u001b[0;34m=\u001b[0m\u001b[0mparameters\u001b[0m\u001b[0;34m)\u001b[0m\u001b[0;34m\u001b[0m\u001b[0;34m\u001b[0m\u001b[0m\n\u001b[0m\u001b[1;32m    797\u001b[0m \u001b[0;34m\u001b[0m\u001b[0m\n\u001b[1;32m    798\u001b[0m     \u001b[0;34m@\u001b[0m\u001b[0mclassmethod\u001b[0m\u001b[0;34m\u001b[0m\u001b[0;34m\u001b[0m\u001b[0m\n",
      "\u001b[0;32m~/anaconda3/envs/tfx/lib/python3.8/site-packages/pydub/audio_segment.py\u001b[0m in \u001b[0;36mfrom_file\u001b[0;34m(cls, file, format, codec, parameters, start_second, duration, **kwargs)\u001b[0m\n\u001b[1;32m    771\u001b[0m             \u001b[0;32mif\u001b[0m \u001b[0mclose_file\u001b[0m\u001b[0;34m:\u001b[0m\u001b[0;34m\u001b[0m\u001b[0;34m\u001b[0m\u001b[0m\n\u001b[1;32m    772\u001b[0m                 \u001b[0mfile\u001b[0m\u001b[0;34m.\u001b[0m\u001b[0mclose\u001b[0m\u001b[0;34m(\u001b[0m\u001b[0;34m)\u001b[0m\u001b[0;34m\u001b[0m\u001b[0;34m\u001b[0m\u001b[0m\n\u001b[0;32m--> 773\u001b[0;31m             raise CouldntDecodeError(\n\u001b[0m\u001b[1;32m    774\u001b[0m                 \"Decoding failed. ffmpeg returned error code: {0}\\n\\nOutput from ffmpeg/avlib:\\n\\n{1}\".format(\n\u001b[1;32m    775\u001b[0m                     p.returncode, p_err.decode(errors='ignore') ))\n",
      "\u001b[0;31mCouldntDecodeError\u001b[0m: Decoding failed. ffmpeg returned error code: 69\n\nOutput from ffmpeg/avlib:\n\nffmpeg version 4.2.4-1ubuntu0.1 Copyright (c) 2000-2020 the FFmpeg developers\n  built with gcc 9 (Ubuntu 9.3.0-10ubuntu2)\n  configuration: --prefix=/usr --extra-version=1ubuntu0.1 --toolchain=hardened --libdir=/usr/lib/x86_64-linux-gnu --incdir=/usr/include/x86_64-linux-gnu --arch=amd64 --enable-gpl --disable-stripping --enable-avresample --disable-filter=resample --enable-avisynth --enable-gnutls --enable-ladspa --enable-libaom --enable-libass --enable-libbluray --enable-libbs2b --enable-libcaca --enable-libcdio --enable-libcodec2 --enable-libflite --enable-libfontconfig --enable-libfreetype --enable-libfribidi --enable-libgme --enable-libgsm --enable-libjack --enable-libmp3lame --enable-libmysofa --enable-libopenjpeg --enable-libopenmpt --enable-libopus --enable-libpulse --enable-librsvg --enable-librubberband --enable-libshine --enable-libsnappy --enable-libsoxr --enable-libspeex --enable-libssh --enable-libtheora --enable-libtwolame --enable-libvidstab --enable-libvorbis --enable-libvpx --enable-libwavpack --enable-libwebp --enable-libx265 --enable-libxml2 --enable-libxvid --enable-libzmq --enable-libzvbi --enable-lv2 --enable-omx --enable-openal --enable-opencl --enable-opengl --enable-sdl2 --enable-libdc1394 --enable-libdrm --enable-libiec61883 --enable-nvenc --enable-chromaprint --enable-frei0r --enable-libx264 --enable-shared\n  libavutil      56. 31.100 / 56. 31.100\n  libavcodec     58. 54.100 / 58. 54.100\n  libavformat    58. 29.100 / 58. 29.100\n  libavdevice    58.  8.100 / 58.  8.100\n  libavfilter     7. 57.100 /  7. 57.100\n  libavresample   4.  0.  0 /  4.  0.  0\n  libswscale      5.  5.100 /  5.  5.100\n  libswresample   3.  5.100 /  3.  5.100\n  libpostproc    55.  5.100 / 55.  5.100\n[mp3float @ 0x5629019fa3c0] Header missing\n    Last message repeated 61 times\n[mp3 @ 0x5629019f0700] Estimating duration from bitrate, this may be inaccurate\nInput #0, mp3, from '../../data/urban-sound/data/car_horn/178402.mp3':\n  Duration: 00:05:51.29, start: 0.000000, bitrate: 64 kb/s\n    Stream #0:0: Audio: mp3, 44100 Hz, stereo, fltp, 64 kb/s\nStream mapping:\n  Stream #0:0 -> #0:0 (mp3 (mp3float) -> pcm_s16le (native))\nPress [q] to stop, [?] for help\n[mp3float @ 0x5629019fb780] Header missing\nError while decoding stream #0:0: Invalid data found when processing input\n[mp3float @ 0x5629019fb780] Header missing\nError while decoding stream #0:0: Invalid data found when processing input\n[mp3float @ 0x5629019fb780] Header missing\nError while decoding stream #0:0: Invalid data found when processing input\n[mp3float @ 0x5629019fb780] Header missing\nError while decoding stream #0:0: Invalid data found when processing input\n[mp3float @ 0x5629019fb780] Header missing\nError while decoding stream #0:0: Invalid data found when processing input\n[mp3float @ 0x5629019fb780] Header missing\nError while decoding stream #0:0: Invalid data found when processing input\n[mp3float @ 0x5629019fb780] Header missing\nError while decoding stream #0:0: Invalid data found when processing input\n[mp3float @ 0x5629019fb780] Header missing\nError while decoding stream #0:0: Invalid data found when processing input\n[mp3float @ 0x5629019fb780] Header missing\nError while decoding stream #0:0: Invalid data found when processing input\n[mp3float @ 0x5629019fb780] Header missing\nError while decoding stream #0:0: Invalid data found when processing input\n[mp3float @ 0x5629019fb780] Header missing\nError while decoding stream #0:0: Invalid data found when processing input\n[mp3float @ 0x5629019fb780] Header missing\nError while decoding stream #0:0: Invalid data found when processing input\n[mp3float @ 0x5629019fb780] Header missing\nError while decoding stream #0:0: Invalid data found when processing input\n[mp3float @ 0x5629019fb780] Header missing\nError while decoding stream #0:0: Invalid data found when processing input\n[mp3float @ 0x5629019fb780] Header missing\nError while decoding stream #0:0: Invalid data found when processing input\n[mp3float @ 0x5629019fb780] Header missing\nError while decoding stream #0:0: Invalid data found when processing input\n[mp3float @ 0x5629019fb780] Header missing\nError while decoding stream #0:0: Invalid data found when processing input\n[mp3float @ 0x5629019fb780] Header missing\nError while decoding stream #0:0: Invalid data found when processing input\n[mp3float @ 0x5629019fb780] Header missing\nError while decoding stream #0:0: Invalid data found when processing input\n[mp3float @ 0x5629019fb780] Header missing\nError while decoding stream #0:0: Invalid data found when processing input\n[mp3float @ 0x5629019fb780] Header missing\nError while decoding stream #0:0: Invalid data found when processing input\n[mp3float @ 0x5629019fb780] Header missing\nError while decoding stream #0:0: Invalid data found when processing input\n[mp3float @ 0x5629019fb780] Header missing\nError while decoding stream #0:0: Invalid data found when processing input\n[mp3float @ 0x5629019fb780] Header missing\nError while decoding stream #0:0: Invalid data found when processing input\n[mp3float @ 0x5629019fb780] Header missing\nError while decoding stream #0:0: Invalid data found when processing input\n[mp3float @ 0x5629019fb780] Header missing\nError while decoding stream #0:0: Invalid data found when processing input\n[mp3float @ 0x5629019fb780] Header missing\nError while decoding stream #0:0: Invalid data found when processing input\n[mp3float @ 0x5629019fb780] Header missing\nError while decoding stream #0:0: Invalid data found when processing input\n[mp3float @ 0x5629019fb780] Header missing\nError while decoding stream #0:0: Invalid data found when processing input\n[mp3float @ 0x5629019fb780] Header missing\nError while decoding stream #0:0: Invalid data found when processing input\n[mp3float @ 0x5629019fb780] Header missing\nError while decoding stream #0:0: Invalid data found when processing input\n[mp3float @ 0x5629019fb780] Header missing\nError while decoding stream #0:0: Invalid data found when processing input\n[mp3float @ 0x5629019fb780] Header missing\nError while decoding stream #0:0: Invalid data found when processing input\n[mp3float @ 0x5629019fb780] Header missing\nError while decoding stream #0:0: Invalid data found when processing input\n[mp3float @ 0x5629019fb780] Header missing\nError while decoding stream #0:0: Invalid data found when processing input\n[mp3float @ 0x5629019fb780] Header missing\nError while decoding stream #0:0: Invalid data found when processing input\n[mp3float @ 0x5629019fb780] Header missing\nError while decoding stream #0:0: Invalid data found when processing input\n[mp3float @ 0x5629019fb780] Header missing\nError while decoding stream #0:0: Invalid data found when processing input\n[mp3float @ 0x5629019fb780] Header missing\nError while decoding stream #0:0: Invalid data found when processing input\n[mp3float @ 0x5629019fb780] Header missing\nError while decoding stream #0:0: Invalid data found when processing input\n[mp3float @ 0x5629019fb780] Header missing\nError while decoding stream #0:0: Invalid data found when processing input\n[mp3float @ 0x5629019fb780] Header missing\nError while decoding stream #0:0: Invalid data found when processing input\n[mp3float @ 0x5629019fb780] Header missing\nError while decoding stream #0:0: Invalid data found when processing input\n[mp3float @ 0x5629019fb780] Header missing\nError while decoding stream #0:0: Invalid data found when processing input\n[mp3float @ 0x5629019fb780] Header missing\nError while decoding stream #0:0: Invalid data found when processing input\n[mp3float @ 0x5629019fb780] Header missing\nError while decoding stream #0:0: Invalid data found when processing input\n[mp3float @ 0x5629019fb780] Header missing\nError while decoding stream #0:0: Invalid data found when processing input\n[mp3float @ 0x5629019fb780] Header missing\nError while decoding stream #0:0: Invalid data found when processing input\n[mp3float @ 0x5629019fb780] Header missing\nError while decoding stream #0:0: Invalid data found when processing input\n[mp3float @ 0x5629019fb780] Header missing\nError while decoding stream #0:0: Invalid data found when processing input\n[mp3float @ 0x5629019fb780] Header missing\nError while decoding stream #0:0: Invalid data found when processing input\n[mp3float @ 0x5629019fb780] Header missing\nError while decoding stream #0:0: Invalid data found when processing input\n[mp3float @ 0x5629019fb780] Header missing\nError while decoding stream #0:0: Invalid data found when processing input\n[mp3float @ 0x5629019fb780] Header missing\nError while decoding stream #0:0: Invalid data found when processing input\n[mp3float @ 0x5629019fb780] Header missing\nError while decoding stream #0:0: Invalid data found when processing input\n[mp3float @ 0x5629019fb780] Header missing\nError while decoding stream #0:0: Invalid data found when processing input\n[mp3float @ 0x5629019fb780] Header missing\nError while decoding stream #0:0: Invalid data found when processing input\n[mp3float @ 0x5629019fb780] Header missing\nError while decoding stream #0:0: Invalid data found when processing input\n[mp3float @ 0x5629019fb780] Header missing\nError while decoding stream #0:0: Invalid data found when processing input\n[mp3float @ 0x5629019fb780] Header missing\nError while decoding stream #0:0: Invalid data found when processing input\n[mp3float @ 0x5629019fb780] Header missing\nError while decoding stream #0:0: Invalid data found when processing input\n[mp3float @ 0x5629019fb780] Header missing\nError while decoding stream #0:0: Invalid data found when processing input\nOutput #0, wav, to 'pipe:':\n  Metadata:\n    ISFT            : Lavf58.29.100\n    Stream #0:0: Audio: pcm_s16le ([1][0][0][0] / 0x0001), 44100 Hz, stereo, s16, 1411 kb/s\n    Metadata:\n      encoder         : Lavc58.54.100 pcm_s16le\n[mp3float @ 0x5629019fb780] Header missing\nError while decoding stream #0:0: Invalid data found when processing input\n[mp3float @ 0x5629019fb780] Header missing\nError while decoding stream #0:0: Invalid data found when processing input\n[mp3float @ 0x5629019fb780] Header missing\nError while decoding stream #0:0: Invalid data found when processing input\n[mp3float @ 0x5629019fb780] Header missing\nError while decoding stream #0:0: Invalid data found when processing input\n[mp3float @ 0x5629019fb780] Header missing\nError while decoding stream #0:0: Invalid data found when processing input\n[mp3float @ 0x5629019fb780] Header missing\nError while decoding stream #0:0: Invalid data found when processing input\n[mp3float @ 0x5629019fb780] Header missing\nError while decoding stream #0:0: Invalid data found when processing input\n[mp3float @ 0x5629019fb780] Header missing\nError while decoding stream #0:0: Invalid data found when processing input\n[mp3float @ 0x5629019fb780] Header missing\nError while decoding stream #0:0: Invalid data found when processing input\n[mp3float @ 0x5629019fb780] Header missing\nError while decoding stream #0:0: Invalid data found when processing input\n[mp3float @ 0x5629019fb780] Header missing\nError while decoding stream #0:0: Invalid data found when processing input\n[mp3float @ 0x5629019fb780] Header missing\nError while decoding stream #0:0: Invalid data found when processing input\n[mp3float @ 0x5629019fb780] Header missing\nError while decoding stream #0:0: Invalid data found when processing input\n[mp3float @ 0x5629019fb780] Header missing\nError while decoding stream #0:0: Invalid data found when processing input\n[mp3float @ 0x5629019fb780] Header missing\nError while decoding stream #0:0: Invalid data found when processing input\n[mp3float @ 0x5629019fb780] Header missing\nError while decoding stream #0:0: Invalid data found when processing input\n[mp3float @ 0x5629019fb780] Header missing\nError while decoding stream #0:0: Invalid data found when processing input\n[mp3float @ 0x5629019fb780] Header missing\nError while decoding stream #0:0: Invalid data found when processing input\n[mp3float @ 0x5629019fb780] Header missing\nError while decoding stream #0:0: Invalid data found when processing input\n[mp3float @ 0x5629019fb780] Header missing\nError while decoding stream #0:0: Invalid data found when processing input\n[mp3float @ 0x5629019fb780] Header missing\nError while decoding stream #0:0: Invalid data found when processing input\n[mp3float @ 0x5629019fb780] Header missing\nError while decoding stream #0:0: Invalid data found when processing input\n[mp3float @ 0x5629019fb780] Header missing\nError while decoding stream #0:0: Invalid data found when processing input\n[mp3float @ 0x5629019fb780] Header missing\nError while decoding stream #0:0: Invalid data found when processing input\n[mp3float @ 0x5629019fb780] Header missing\nError while decoding stream #0:0: Invalid data found when processing input\n[mp3float @ 0x5629019fb780] Header missing\nError while decoding stream #0:0: Invalid data found when processing input\n[mp3float @ 0x5629019fb780] Header missing\nError while decoding stream #0:0: Invalid data found when processing input\n[mp3float @ 0x5629019fb780] Header missing\nError while decoding stream #0:0: Invalid data found when processing input\n[mp3float @ 0x5629019fb780] Header missing\nError while decoding stream #0:0: Invalid data found when processing input\n[mp3float @ 0x5629019fb780] Header missing\nError while decoding stream #0:0: Invalid data found when processing input\n[mp3float @ 0x5629019fb780] Header missing\nError while decoding stream #0:0: Invalid data found when processing input\n[mp3float @ 0x5629019fb780] Header missing\nError while decoding stream #0:0: Invalid data found when processing input\n[mp3float @ 0x5629019fb780] Header missing\nError while decoding stream #0:0: Invalid data found when processing input\n[mp3float @ 0x5629019fb780] Header missing\nError while decoding stream #0:0: Invalid data found when processing input\n[mp3float @ 0x5629019fb780] Header missing\nError while decoding stream #0:0: Invalid data found when processing input\n[mp3float @ 0x5629019fb780] Header missing\nError while decoding stream #0:0: Invalid data found when processing input\n[mp3float @ 0x5629019fb780] Header missing\nError while decoding stream #0:0: Invalid data found when processing input\n[mp3float @ 0x5629019fb780] Header missing\nError while decoding stream #0:0: Invalid data found when processing input\n[mp3float @ 0x5629019fb780] Header missing\nError while decoding stream #0:0: Invalid data found when processing input\n[mp3float @ 0x5629019fb780] Header missing\nError while decoding stream #0:0: Invalid data found when processing input\n[mp3float @ 0x5629019fb780] Header missing\nError while decoding stream #0:0: Invalid data found when processing input\n[mp3float @ 0x5629019fb780] Header missing\nError while decoding stream #0:0: Invalid data found when processing input\n[mp3float @ 0x5629019fb780] Header missing\nError while decoding stream #0:0: Invalid data found when processing input\n[mp3float @ 0x5629019fb780] Header missing\nError while decoding stream #0:0: Invalid data found when processing input\n[mp3float @ 0x5629019fb780] Header missing\nError while decoding stream #0:0: Invalid data found when processing input\n[mp3float @ 0x5629019fb780] Header missing\nError while decoding stream #0:0: Invalid data found when processing input\n[mp3float @ 0x5629019fb780] Header missing\nError while decoding stream #0:0: Invalid data found when processing input\n[mp3float @ 0x5629019fb780] Header missing\nError while decoding stream #0:0: Invalid data found when processing input\n[mp3float @ 0x5629019fb780] Header missing\nError while decoding stream #0:0: Invalid data found when processing input\n[mp3float @ 0x5629019fb780] Header missing\nError while decoding stream #0:0: Invalid data found when processing input\n[mp3float @ 0x5629019fb780] Header missing\nError while decoding stream #0:0: Invalid data found when processing input\n[mp3float @ 0x5629019fb780] Header missing\nError while decoding stream #0:0: Invalid data found when processing input\n[mp3float @ 0x5629019fb780] Header missing\nError while decoding stream #0:0: Invalid data found when processing input\n[mp3float @ 0x5629019fb780] Header missing\nError while decoding stream #0:0: Invalid data found when processing input\n[mp3float @ 0x5629019fb780] Header missing\nError while decoding stream #0:0: Invalid data found when processing input\n[mp3float @ 0x5629019fb780] Header missing\nError while decoding stream #0:0: Invalid data found when processing input\n[mp3float @ 0x5629019fb780] Header missing\nError while decoding stream #0:0: Invalid data found when processing input\n[mp3float @ 0x5629019fb780] Header missing\nError while decoding stream #0:0: Invalid data found when processing input\n[mp3float @ 0x5629019fb780] Header missing\nError while decoding stream #0:0: Invalid data found when processing input\n[mp3float @ 0x5629019fb780] Header missing\nError while decoding stream #0:0: Invalid data found when processing input\n[mp3float @ 0x5629019fb780] Header missing\nError while decoding stream #0:0: Invalid data found when processing input\n[mp3float @ 0x5629019fb780] Header missing\nError while decoding stream #0:0: Invalid data found when processing input\n[mp3float @ 0x5629019fb780] Header missing\nError while decoding stream #0:0: Invalid data found when processing input\n[mp3float @ 0x5629019fb780] Header missing\nError while decoding stream #0:0: Invalid data found when processing input\n[mp3float @ 0x5629019fb780] Header missing\nError while decoding stream #0:0: Invalid data found when processing input\n[mp3float @ 0x5629019fb780] Header missing\nError while decoding stream #0:0: Invalid data found when processing input\n[mp3float @ 0x5629019fb780] Header missing\nError while decoding stream #0:0: Invalid data found when processing input\n[mp3float @ 0x5629019fb780] Header missing\nError while decoding stream #0:0: Invalid data found when processing input\n[mp3float @ 0x5629019fb780] Header missing\nError while decoding stream #0:0: Invalid data found when processing input\n[mp3float @ 0x5629019fb780] Header missing\nError while decoding stream #0:0: Invalid data found when processing input\n[mp3float @ 0x5629019fb780] Header missing\nError while decoding stream #0:0: Invalid data found when processing input\n[mp3float @ 0x5629019fb780] Header missing\nError while decoding stream #0:0: Invalid data found when processing input\n[mp3float @ 0x5629019fb780] Header missing\nError while decoding stream #0:0: Invalid data found when processing input\n[mp3float @ 0x5629019fb780] Header missing\nError while decoding stream #0:0: Invalid data found when processing input\n[mp3float @ 0x5629019fb780] Header missing\nError while decoding stream #0:0: Invalid data found when processing input\n[mp3float @ 0x5629019fb780] Header missing\nError while decoding stream #0:0: Invalid data found when processing input\n[mp3float @ 0x5629019fb780] Header missing\nError while decoding stream #0:0: Invalid data found when processing input\n[mp3float @ 0x5629019fb780] Header missing\nError while decoding stream #0:0: Invalid data found when processing input\n[mp3float @ 0x5629019fb780] Header missing\nError while decoding stream #0:0: Invalid data found when processing input\n[mp3float @ 0x5629019fb780] Header missing\nError while decoding stream #0:0: Invalid data found when processing input\n[mp3float @ 0x5629019fb780] Header missing\nError while decoding stream #0:0: Invalid data found when processing input\n[mp3float @ 0x5629019fb780] Header missing\nError while decoding stream #0:0: Invalid data found when processing input\n[mp3float @ 0x5629019fb780] Header missing\nError while decoding stream #0:0: Invalid data found when processing input\n[mp3float @ 0x5629019fb780] Header missing\nError while decoding stream #0:0: Invalid data found when processing input\n[mp3float @ 0x5629019fb780] Header missing\nError while decoding stream #0:0: Invalid data found when processing input\n[mp3float @ 0x5629019fb780] Header missing\nError while decoding stream #0:0: Invalid data found when processing input\n[mp3float @ 0x5629019fb780] Header missing\nError while decoding stream #0:0: Invalid data found when processing input\n[mp3float @ 0x5629019fb780] Header missing\nError while decoding stream #0:0: Invalid data found when processing input\n[mp3float @ 0x5629019fb780] Header missing\nError while decoding stream #0:0: Invalid data found when processing input\n[mp3float @ 0x5629019fb780] Header missing\nError while decoding stream #0:0: Invalid data found when processing input\n[mp3float @ 0x5629019fb780] Header missing\nError while decoding stream #0:0: Invalid data found when processing input\n[mp3float @ 0x5629019fb780] Header missing\nError while decoding stream #0:0: Invalid data found when processing input\n[mp3float @ 0x5629019fb780] Header missing\nError while decoding stream #0:0: Invalid data found when processing input\n[mp3float @ 0x5629019fb780] Header missing\nError while decoding stream #0:0: Invalid data found when processing input\n[mp3float @ 0x5629019fb780] Header missing\nError while decoding stream #0:0: Invalid data found when processing input\n[mp3float @ 0x5629019fb780] Header missing\nError while decoding stream #0:0: Invalid data found when processing input\n[mp3float @ 0x5629019fb780] Header missing\nError while decoding stream #0:0: Invalid data found when processing input\n[mp3float @ 0x5629019fb780] Header missing\nError while decoding stream #0:0: Invalid data found when processing input\n[mp3float @ 0x5629019fb780] Header missing\nError while decoding stream #0:0: Invalid data found when processing input\n[mp3float @ 0x5629019fb780] Header missing\nError while decoding stream #0:0: Invalid data found when processing input\n[mp3float @ 0x5629019fb780] Header missing\nError while decoding stream #0:0: Invalid data found when processing input\n[mp3float @ 0x5629019fb780] Header missing\nError while decoding stream #0:0: Invalid data found when processing input\n[mp3float @ 0x5629019fb780] Header missing\nError while decoding stream #0:0: Invalid data found when processing input\n[mp3float @ 0x5629019fb780] Header missing\nError while decoding stream #0:0: Invalid data found when processing input\n[mp3float @ 0x5629019fb780] Header missing\nError while decoding stream #0:0: Invalid data found when processing input\n[mp3float @ 0x5629019fb780] Header missing\nError while decoding stream #0:0: Invalid data found when processing input\n[mp3float @ 0x5629019fb780] Header missing\nError while decoding stream #0:0: Invalid data found when processing input\n[mp3float @ 0x5629019fb780] Header missing\nError while decoding stream #0:0: Invalid data found when processing input\n[mp3float @ 0x5629019fb780] Header missing\nError while decoding stream #0:0: Invalid data found when processing input\n[mp3float @ 0x5629019fb780] Header missing\nError while decoding stream #0:0: Invalid data found when processing input\n[mp3float @ 0x5629019fb780] Header missing\nError while decoding stream #0:0: Invalid data found when processing input\n[mp3float @ 0x5629019fb780] Header missing\nError while decoding stream #0:0: Invalid data found when processing input\n[mp3float @ 0x5629019fb780] Header missing\nError while decoding stream #0:0: Invalid data found when processing input\n[mp3float @ 0x5629019fb780] Header missing\nError while decoding stream #0:0: Invalid data found when processing input\n[mp3float @ 0x5629019fb780] Header missing\nError while decoding stream #0:0: Invalid data found when processing input\n[mp3float @ 0x5629019fb780] Header missing\nError while decoding stream #0:0: Invalid data found when processing input\n[mp3float @ 0x5629019fb780] Header missing\nError while decoding stream #0:0: Invalid data found when processing input\n[mp3float @ 0x5629019fb780] Header missing\nError while decoding stream #0:0: Invalid data found when processing input\n[mp3float @ 0x5629019fb780] Header missing\nError while decoding stream #0:0: Invalid data found when processing input\n[mp3float @ 0x5629019fb780] Header missing\nError while decoding stream #0:0: Invalid data found when processing input\n[mp3float @ 0x5629019fb780] Header missing\nError while decoding stream #0:0: Invalid data found when processing input\n[mp3float @ 0x5629019fb780] Header missing\nError while decoding stream #0:0: Invalid data found when processing input\n[mp3float @ 0x5629019fb780] Header missing\nError while decoding stream #0:0: Invalid data found when processing input\n[mp3float @ 0x5629019fb780] Header missing\nError while decoding stream #0:0: Invalid data found when processing input\n[mp3float @ 0x5629019fb780] Header missing\nError while decoding stream #0:0: Invalid data found when processing input\n[mp3float @ 0x5629019fb780] Header missing\nError while decoding stream #0:0: Invalid data found when processing input\n[mp3float @ 0x5629019fb780] Header missing\nError while decoding stream #0:0: Invalid data found when processing input\n[mp3float @ 0x5629019fb780] Header missing\nError while decoding stream #0:0: Invalid data found when processing input\n[mp3float @ 0x5629019fb780] Header missing\nError while decoding stream #0:0: Invalid data found when processing input\n[mp3float @ 0x5629019fb780] Header missing\nError while decoding stream #0:0: Invalid data found when processing input\n[mp3float @ 0x5629019fb780] Header missing\nError while decoding stream #0:0: Invalid data found when processing input\n[mp3float @ 0x5629019fb780] Header missing\nError while decoding stream #0:0: Invalid data found when processing input\n[mp3float @ 0x5629019fb780] Header missing\nError while decoding stream #0:0: Invalid data found when processing input\n[mp3float @ 0x5629019fb780] Header missing\nError while decoding stream #0:0: Invalid data found when processing input\n[mp3float @ 0x5629019fb780] Header missing\nError while decoding stream #0:0: Invalid data found when processing input\n[mp3float @ 0x5629019fb780] Header missing\nError while decoding stream #0:0: Invalid data found when processing input\n[mp3float @ 0x5629019fb780] Header missing\nError while decoding stream #0:0: Invalid data found when processing input\n[mp3float @ 0x5629019fb780] Header missing\nError while decoding stream #0:0: Invalid data found when processing input\n[mp3float @ 0x5629019fb780] Header missing\nError while decoding stream #0:0: Invalid data found when processing input\n[mp3float @ 0x5629019fb780] Header missing\nError while decoding stream #0:0: Invalid data found when processing input\n[mp3float @ 0x5629019fb780] Header missing\nError while decoding stream #0:0: Invalid data found when processing input\n[mp3float @ 0x5629019fb780] Header missing\nError while decoding stream #0:0: Invalid data found when processing input\n[mp3float @ 0x5629019fb780] Header missing\nError while decoding stream #0:0: Invalid data found when processing input\n[mp3float @ 0x5629019fb780] Header missing\nError while decoding stream #0:0: Invalid data found when processing input\n[mp3float @ 0x5629019fb780] Header missing\nError while decoding stream #0:0: Invalid data found when processing input\n[mp3float @ 0x5629019fb780] Header missing\nError while decoding stream #0:0: Invalid data found when processing input\n[mp3float @ 0x5629019fb780] Header missing\nError while decoding stream #0:0: Invalid data found when processing input\nsize=       3kB time=00:00:03.82 bitrate=   6.6kbits/s speed= 184x    \nvideo:0kB audio:3kB subtitle:0kB other streams:0kB global headers:0kB muxing overhead: 2.539062%\nConversion failed!\n"
     ]
    }
   ],
   "source": [
    "count = 0\n",
    "for subdir, dirs, files in os.walk(URBAN_SOUND_RECORDINGS):\n",
    "    for file in files:\n",
    "        #print os.path.join(subdir, file)\n",
    "        filepath = subdir + os.sep + file\n",
    "        source_path = Path(subdir)\n",
    "        #print(filepath)\n",
    "        #print(file)\n",
    "\n",
    "        if not filepath.endswith(('.csv', '.json','.DS_Store','.aif','.flac')):\n",
    "            sound = AudioSegment.from_mp3(filepath)\n",
    "            file_format = file.split(\".\")[-1]\n",
    "            if sound.duration_seconds > 20:\n",
    "                print(file_format)\n",
    "                first_twenty = sound[:20000]\n",
    "                first_twenty.export(filepath, format=file_format)\n",
    "                count += 1\n",
    "                if count % 10 == 0:\n",
    "                    print(count, end='\\r')\n",
    "print(count)"
   ]
  },
  {
   "cell_type": "code",
   "execution_count": 20,
   "id": "619cfe09",
   "metadata": {},
   "outputs": [],
   "source": [
    "def log_mel_spec_tfm(fname, label, src_path , dst_path):\n",
    "    data, sample_rate = librosa.load(src_path/fname)\n",
    "    \n",
    "    n_fft = 1024\n",
    "    hop_length = 512\n",
    "    n_mels = 80\n",
    "    fmin = 20\n",
    "    fmax = sample_rate / 2 \n",
    "    \n",
    "    mel_spec_power = librosa.feature.melspectrogram(data, sr=sample_rate, n_fft=n_fft, \n",
    "                                                    hop_length=hop_length, \n",
    "                                                    n_mels=n_mels, power=2.0, \n",
    "                                                    fmin=fmin, fmax=fmax)\n",
    "    \n",
    "    #mel_spec_power = librosa.feature.melspectrogram(x, sr=sample_rate)\n",
    "    \n",
    "    mel_spec_db = librosa.power_to_db(mel_spec_power, ref=np.max)\n",
    "        \n",
    "    dst_path = dst_path / label\n",
    "    dst_path.mkdir(exist_ok=True)\n",
    "    \n",
    "    dst_fname = dst_path / (fname[:-4] + '.png')\n",
    "    #print(dst_fname)\n",
    "    plt.imsave(dst_fname, mel_spec_db)"
   ]
  },
  {
   "cell_type": "code",
   "execution_count": 33,
   "id": "34f81631",
   "metadata": {},
   "outputs": [],
   "source": [
    "import warnings\n",
    "warnings.filterwarnings('ignore')"
   ]
  },
  {
   "cell_type": "code",
   "execution_count": 36,
   "id": "fcb8c2c0",
   "metadata": {},
   "outputs": [
    {
     "name": "stdout",
     "output_type": "stream",
     "text": [
      "60\r"
     ]
    },
    {
     "ename": "KeyboardInterrupt",
     "evalue": "",
     "output_type": "error",
     "traceback": [
      "\u001b[0;31m---------------------------------------------------------------------------\u001b[0m",
      "\u001b[0;31mKeyboardInterrupt\u001b[0m                         Traceback (most recent call last)",
      "\u001b[0;32m/tmp/ipykernel_157463/3488610054.py\u001b[0m in \u001b[0;36m<cell line: 2>\u001b[0;34m()\u001b[0m\n\u001b[1;32m     14\u001b[0m             \u001b[0mlabel\u001b[0m \u001b[0;34m=\u001b[0m \u001b[0msubdir\u001b[0m\u001b[0;34m.\u001b[0m\u001b[0msplit\u001b[0m\u001b[0;34m(\u001b[0m\u001b[0;34m\"/\"\u001b[0m\u001b[0;34m)\u001b[0m\u001b[0;34m[\u001b[0m\u001b[0;34m-\u001b[0m\u001b[0;36m1\u001b[0m\u001b[0;34m]\u001b[0m\u001b[0;34m\u001b[0m\u001b[0;34m\u001b[0m\u001b[0m\n\u001b[1;32m     15\u001b[0m             \u001b[0;31m#print(label)\u001b[0m\u001b[0;34m\u001b[0m\u001b[0;34m\u001b[0m\u001b[0;34m\u001b[0m\u001b[0m\n\u001b[0;32m---> 16\u001b[0;31m             \u001b[0mlog_mel_spec_tfm\u001b[0m\u001b[0;34m(\u001b[0m\u001b[0mfile\u001b[0m\u001b[0;34m,\u001b[0m \u001b[0mlabel\u001b[0m\u001b[0;34m,\u001b[0m \u001b[0msource_path\u001b[0m\u001b[0;34m,\u001b[0m \u001b[0mdst_path\u001b[0m\u001b[0;34m)\u001b[0m\u001b[0;34m\u001b[0m\u001b[0;34m\u001b[0m\u001b[0m\n\u001b[0m",
      "\u001b[0;32m/tmp/ipykernel_157463/1258060367.py\u001b[0m in \u001b[0;36mlog_mel_spec_tfm\u001b[0;34m(fname, label, src_path, dst_path)\u001b[0m\n\u001b[1;32m      1\u001b[0m \u001b[0;32mdef\u001b[0m \u001b[0mlog_mel_spec_tfm\u001b[0m\u001b[0;34m(\u001b[0m\u001b[0mfname\u001b[0m\u001b[0;34m,\u001b[0m \u001b[0mlabel\u001b[0m\u001b[0;34m,\u001b[0m \u001b[0msrc_path\u001b[0m \u001b[0;34m,\u001b[0m \u001b[0mdst_path\u001b[0m\u001b[0;34m)\u001b[0m\u001b[0;34m:\u001b[0m\u001b[0;34m\u001b[0m\u001b[0;34m\u001b[0m\u001b[0m\n\u001b[0;32m----> 2\u001b[0;31m     \u001b[0mdata\u001b[0m\u001b[0;34m,\u001b[0m \u001b[0msample_rate\u001b[0m \u001b[0;34m=\u001b[0m \u001b[0mlibrosa\u001b[0m\u001b[0;34m.\u001b[0m\u001b[0mload\u001b[0m\u001b[0;34m(\u001b[0m\u001b[0msrc_path\u001b[0m\u001b[0;34m/\u001b[0m\u001b[0mfname\u001b[0m\u001b[0;34m)\u001b[0m\u001b[0;34m\u001b[0m\u001b[0;34m\u001b[0m\u001b[0m\n\u001b[0m\u001b[1;32m      3\u001b[0m \u001b[0;34m\u001b[0m\u001b[0m\n\u001b[1;32m      4\u001b[0m     \u001b[0mn_fft\u001b[0m \u001b[0;34m=\u001b[0m \u001b[0;36m1024\u001b[0m\u001b[0;34m\u001b[0m\u001b[0;34m\u001b[0m\u001b[0m\n\u001b[1;32m      5\u001b[0m     \u001b[0mhop_length\u001b[0m \u001b[0;34m=\u001b[0m \u001b[0;36m512\u001b[0m\u001b[0;34m\u001b[0m\u001b[0;34m\u001b[0m\u001b[0m\n",
      "\u001b[0;32m~/anaconda3/envs/tfx/lib/python3.8/site-packages/librosa/core/audio.py\u001b[0m in \u001b[0;36mload\u001b[0;34m(path, sr, mono, offset, duration, dtype, res_type)\u001b[0m\n\u001b[1;32m    170\u001b[0m \u001b[0;34m\u001b[0m\u001b[0m\n\u001b[1;32m    171\u001b[0m     \u001b[0;32mif\u001b[0m \u001b[0msr\u001b[0m \u001b[0;32mis\u001b[0m \u001b[0;32mnot\u001b[0m \u001b[0;32mNone\u001b[0m\u001b[0;34m:\u001b[0m\u001b[0;34m\u001b[0m\u001b[0;34m\u001b[0m\u001b[0m\n\u001b[0;32m--> 172\u001b[0;31m         \u001b[0my\u001b[0m \u001b[0;34m=\u001b[0m \u001b[0mresample\u001b[0m\u001b[0;34m(\u001b[0m\u001b[0my\u001b[0m\u001b[0;34m,\u001b[0m \u001b[0msr_native\u001b[0m\u001b[0;34m,\u001b[0m \u001b[0msr\u001b[0m\u001b[0;34m,\u001b[0m \u001b[0mres_type\u001b[0m\u001b[0;34m=\u001b[0m\u001b[0mres_type\u001b[0m\u001b[0;34m)\u001b[0m\u001b[0;34m\u001b[0m\u001b[0;34m\u001b[0m\u001b[0m\n\u001b[0m\u001b[1;32m    173\u001b[0m \u001b[0;34m\u001b[0m\u001b[0m\n\u001b[1;32m    174\u001b[0m     \u001b[0;32melse\u001b[0m\u001b[0;34m:\u001b[0m\u001b[0;34m\u001b[0m\u001b[0;34m\u001b[0m\u001b[0m\n",
      "\u001b[0;32m~/anaconda3/envs/tfx/lib/python3.8/site-packages/librosa/core/audio.py\u001b[0m in \u001b[0;36mresample\u001b[0;34m(y, orig_sr, target_sr, res_type, fix, scale, **kwargs)\u001b[0m\n\u001b[1;32m    582\u001b[0m         \u001b[0my_hat\u001b[0m \u001b[0;34m=\u001b[0m \u001b[0msamplerate\u001b[0m\u001b[0;34m.\u001b[0m\u001b[0mresample\u001b[0m\u001b[0;34m(\u001b[0m\u001b[0my\u001b[0m\u001b[0;34m.\u001b[0m\u001b[0mT\u001b[0m\u001b[0;34m,\u001b[0m \u001b[0mratio\u001b[0m\u001b[0;34m,\u001b[0m \u001b[0mconverter_type\u001b[0m\u001b[0;34m=\u001b[0m\u001b[0mres_type\u001b[0m\u001b[0;34m)\u001b[0m\u001b[0;34m.\u001b[0m\u001b[0mT\u001b[0m\u001b[0;34m\u001b[0m\u001b[0;34m\u001b[0m\u001b[0m\n\u001b[1;32m    583\u001b[0m     \u001b[0;32melse\u001b[0m\u001b[0;34m:\u001b[0m\u001b[0;34m\u001b[0m\u001b[0;34m\u001b[0m\u001b[0m\n\u001b[0;32m--> 584\u001b[0;31m         \u001b[0my_hat\u001b[0m \u001b[0;34m=\u001b[0m \u001b[0mresampy\u001b[0m\u001b[0;34m.\u001b[0m\u001b[0mresample\u001b[0m\u001b[0;34m(\u001b[0m\u001b[0my\u001b[0m\u001b[0;34m,\u001b[0m \u001b[0morig_sr\u001b[0m\u001b[0;34m,\u001b[0m \u001b[0mtarget_sr\u001b[0m\u001b[0;34m,\u001b[0m \u001b[0mfilter\u001b[0m\u001b[0;34m=\u001b[0m\u001b[0mres_type\u001b[0m\u001b[0;34m,\u001b[0m \u001b[0maxis\u001b[0m\u001b[0;34m=\u001b[0m\u001b[0;34m-\u001b[0m\u001b[0;36m1\u001b[0m\u001b[0;34m)\u001b[0m\u001b[0;34m\u001b[0m\u001b[0;34m\u001b[0m\u001b[0m\n\u001b[0m\u001b[1;32m    585\u001b[0m \u001b[0;34m\u001b[0m\u001b[0m\n\u001b[1;32m    586\u001b[0m     \u001b[0;32mif\u001b[0m \u001b[0mfix\u001b[0m\u001b[0;34m:\u001b[0m\u001b[0;34m\u001b[0m\u001b[0;34m\u001b[0m\u001b[0m\n",
      "\u001b[0;32m~/anaconda3/envs/tfx/lib/python3.8/site-packages/resampy/core.py\u001b[0m in \u001b[0;36mresample\u001b[0;34m(x, sr_orig, sr_new, axis, filter, **kwargs)\u001b[0m\n\u001b[1;32m    118\u001b[0m     \u001b[0mx_2d\u001b[0m \u001b[0;34m=\u001b[0m \u001b[0mx\u001b[0m\u001b[0;34m.\u001b[0m\u001b[0mswapaxes\u001b[0m\u001b[0;34m(\u001b[0m\u001b[0;36m0\u001b[0m\u001b[0;34m,\u001b[0m \u001b[0maxis\u001b[0m\u001b[0;34m)\u001b[0m\u001b[0;34m.\u001b[0m\u001b[0mreshape\u001b[0m\u001b[0;34m(\u001b[0m\u001b[0;34m(\u001b[0m\u001b[0mx\u001b[0m\u001b[0;34m.\u001b[0m\u001b[0mshape\u001b[0m\u001b[0;34m[\u001b[0m\u001b[0maxis\u001b[0m\u001b[0;34m]\u001b[0m\u001b[0;34m,\u001b[0m \u001b[0;34m-\u001b[0m\u001b[0;36m1\u001b[0m\u001b[0;34m)\u001b[0m\u001b[0;34m)\u001b[0m\u001b[0;34m\u001b[0m\u001b[0;34m\u001b[0m\u001b[0m\n\u001b[1;32m    119\u001b[0m     \u001b[0my_2d\u001b[0m \u001b[0;34m=\u001b[0m \u001b[0my\u001b[0m\u001b[0;34m.\u001b[0m\u001b[0mswapaxes\u001b[0m\u001b[0;34m(\u001b[0m\u001b[0;36m0\u001b[0m\u001b[0;34m,\u001b[0m \u001b[0maxis\u001b[0m\u001b[0;34m)\u001b[0m\u001b[0;34m.\u001b[0m\u001b[0mreshape\u001b[0m\u001b[0;34m(\u001b[0m\u001b[0;34m(\u001b[0m\u001b[0my\u001b[0m\u001b[0;34m.\u001b[0m\u001b[0mshape\u001b[0m\u001b[0;34m[\u001b[0m\u001b[0maxis\u001b[0m\u001b[0;34m]\u001b[0m\u001b[0;34m,\u001b[0m \u001b[0;34m-\u001b[0m\u001b[0;36m1\u001b[0m\u001b[0;34m)\u001b[0m\u001b[0;34m)\u001b[0m\u001b[0;34m\u001b[0m\u001b[0;34m\u001b[0m\u001b[0m\n\u001b[0;32m--> 120\u001b[0;31m     \u001b[0mresample_f\u001b[0m\u001b[0;34m(\u001b[0m\u001b[0mx_2d\u001b[0m\u001b[0;34m,\u001b[0m \u001b[0my_2d\u001b[0m\u001b[0;34m,\u001b[0m \u001b[0msample_ratio\u001b[0m\u001b[0;34m,\u001b[0m \u001b[0minterp_win\u001b[0m\u001b[0;34m,\u001b[0m \u001b[0minterp_delta\u001b[0m\u001b[0;34m,\u001b[0m \u001b[0mprecision\u001b[0m\u001b[0;34m)\u001b[0m\u001b[0;34m\u001b[0m\u001b[0;34m\u001b[0m\u001b[0m\n\u001b[0m\u001b[1;32m    121\u001b[0m \u001b[0;34m\u001b[0m\u001b[0m\n\u001b[1;32m    122\u001b[0m     \u001b[0;32mreturn\u001b[0m \u001b[0my\u001b[0m\u001b[0;34m\u001b[0m\u001b[0;34m\u001b[0m\u001b[0m\n",
      "\u001b[0;31mKeyboardInterrupt\u001b[0m: "
     ]
    }
   ],
   "source": [
    "count = 0\n",
    "for subdir, dirs, files in os.walk(URBAN_SOUND_RECORDINGS):\n",
    "    for file in files:\n",
    "        #print os.path.join(subdir, file)\n",
    "        filepath = subdir + os.sep + file\n",
    "        source_path = Path(subdir)\n",
    "        #print(filepath)\n",
    "        #print(file)\n",
    "\n",
    "        if filepath.endswith(\".mp3\"):\n",
    "            count += 1\n",
    "            if count % 10 == 0:\n",
    "                print(count, end='\\r')\n",
    "            label = subdir.split(\"/\")[-1]\n",
    "            #print(label)\n",
    "            log_mel_spec_tfm(file, label, source_path, dst_path)"
   ]
  },
  {
   "cell_type": "code",
   "execution_count": null,
   "id": "278de5c1",
   "metadata": {},
   "outputs": [],
   "source": []
  },
  {
   "cell_type": "code",
   "execution_count": null,
   "id": "93e22e9e",
   "metadata": {},
   "outputs": [],
   "source": []
  },
  {
   "cell_type": "code",
   "execution_count": null,
   "id": "dba7afb7",
   "metadata": {},
   "outputs": [],
   "source": []
  },
  {
   "cell_type": "code",
   "execution_count": 24,
   "id": "b62ac989",
   "metadata": {},
   "outputs": [],
   "source": [
    "dblock = DataBlock(\n",
    "    blocks=(ImageBlock, CategoryBlock), \n",
    "    get_items=get_image_files, \n",
    "    splitter=RandomSplitter(valid_pct=0.2, seed=42),\n",
    "    get_y=parent_label,\n",
    "    item_tfms=Resize(128))"
   ]
  },
  {
   "cell_type": "code",
   "execution_count": 25,
   "id": "62ee244d",
   "metadata": {
    "collapsed": true
   },
   "outputs": [
    {
     "ename": "TypeError",
     "evalue": "'NoneType' object is not iterable",
     "output_type": "error",
     "traceback": [
      "\u001b[0;31m---------------------------------------------------------------------------\u001b[0m",
      "\u001b[0;31mTypeError\u001b[0m                                 Traceback (most recent call last)",
      "\u001b[0;32m/tmp/ipykernel_142545/860642446.py\u001b[0m in \u001b[0;36m<cell line: 1>\u001b[0;34m()\u001b[0m\n\u001b[0;32m----> 1\u001b[0;31m \u001b[0mdls\u001b[0m \u001b[0;34m=\u001b[0m \u001b[0mdblock\u001b[0m\u001b[0;34m.\u001b[0m\u001b[0mdataloaders\u001b[0m\u001b[0;34m(\u001b[0m\u001b[0mdst_path\u001b[0m\u001b[0;34m)\u001b[0m\u001b[0;34m\u001b[0m\u001b[0;34m\u001b[0m\u001b[0m\n\u001b[0m",
      "\u001b[0;32m~/anaconda3/envs/tfx/lib/python3.8/site-packages/fastai/data/block.py\u001b[0m in \u001b[0;36mdataloaders\u001b[0;34m(self, source, path, verbose, **kwargs)\u001b[0m\n\u001b[1;32m    111\u001b[0m \u001b[0;34m\u001b[0m\u001b[0m\n\u001b[1;32m    112\u001b[0m     \u001b[0;32mdef\u001b[0m \u001b[0mdataloaders\u001b[0m\u001b[0;34m(\u001b[0m\u001b[0mself\u001b[0m\u001b[0;34m,\u001b[0m \u001b[0msource\u001b[0m\u001b[0;34m,\u001b[0m \u001b[0mpath\u001b[0m\u001b[0;34m=\u001b[0m\u001b[0;34m'.'\u001b[0m\u001b[0;34m,\u001b[0m \u001b[0mverbose\u001b[0m\u001b[0;34m=\u001b[0m\u001b[0;32mFalse\u001b[0m\u001b[0;34m,\u001b[0m \u001b[0;34m**\u001b[0m\u001b[0mkwargs\u001b[0m\u001b[0;34m)\u001b[0m\u001b[0;34m:\u001b[0m\u001b[0;34m\u001b[0m\u001b[0;34m\u001b[0m\u001b[0m\n\u001b[0;32m--> 113\u001b[0;31m         \u001b[0mdsets\u001b[0m \u001b[0;34m=\u001b[0m \u001b[0mself\u001b[0m\u001b[0;34m.\u001b[0m\u001b[0mdatasets\u001b[0m\u001b[0;34m(\u001b[0m\u001b[0msource\u001b[0m\u001b[0;34m,\u001b[0m \u001b[0mverbose\u001b[0m\u001b[0;34m=\u001b[0m\u001b[0mverbose\u001b[0m\u001b[0;34m)\u001b[0m\u001b[0;34m\u001b[0m\u001b[0;34m\u001b[0m\u001b[0m\n\u001b[0m\u001b[1;32m    114\u001b[0m         \u001b[0mkwargs\u001b[0m \u001b[0;34m=\u001b[0m \u001b[0;34m{\u001b[0m\u001b[0;34m**\u001b[0m\u001b[0mself\u001b[0m\u001b[0;34m.\u001b[0m\u001b[0mdls_kwargs\u001b[0m\u001b[0;34m,\u001b[0m \u001b[0;34m**\u001b[0m\u001b[0mkwargs\u001b[0m\u001b[0;34m,\u001b[0m \u001b[0;34m'verbose'\u001b[0m\u001b[0;34m:\u001b[0m \u001b[0mverbose\u001b[0m\u001b[0;34m}\u001b[0m\u001b[0;34m\u001b[0m\u001b[0;34m\u001b[0m\u001b[0m\n\u001b[1;32m    115\u001b[0m         \u001b[0;32mreturn\u001b[0m \u001b[0mdsets\u001b[0m\u001b[0;34m.\u001b[0m\u001b[0mdataloaders\u001b[0m\u001b[0;34m(\u001b[0m\u001b[0mpath\u001b[0m\u001b[0;34m=\u001b[0m\u001b[0mpath\u001b[0m\u001b[0;34m,\u001b[0m \u001b[0mafter_item\u001b[0m\u001b[0;34m=\u001b[0m\u001b[0mself\u001b[0m\u001b[0;34m.\u001b[0m\u001b[0mitem_tfms\u001b[0m\u001b[0;34m,\u001b[0m \u001b[0mafter_batch\u001b[0m\u001b[0;34m=\u001b[0m\u001b[0mself\u001b[0m\u001b[0;34m.\u001b[0m\u001b[0mbatch_tfms\u001b[0m\u001b[0;34m,\u001b[0m \u001b[0;34m**\u001b[0m\u001b[0mkwargs\u001b[0m\u001b[0;34m)\u001b[0m\u001b[0;34m\u001b[0m\u001b[0;34m\u001b[0m\u001b[0m\n",
      "\u001b[0;32m~/anaconda3/envs/tfx/lib/python3.8/site-packages/fastai/data/block.py\u001b[0m in \u001b[0;36mdatasets\u001b[0;34m(self, source, verbose)\u001b[0m\n\u001b[1;32m    108\u001b[0m         \u001b[0msplits\u001b[0m \u001b[0;34m=\u001b[0m \u001b[0;34m(\u001b[0m\u001b[0mself\u001b[0m\u001b[0;34m.\u001b[0m\u001b[0msplitter\u001b[0m \u001b[0;32mor\u001b[0m \u001b[0mRandomSplitter\u001b[0m\u001b[0;34m(\u001b[0m\u001b[0;34m)\u001b[0m\u001b[0;34m)\u001b[0m\u001b[0;34m(\u001b[0m\u001b[0mitems\u001b[0m\u001b[0;34m)\u001b[0m\u001b[0;34m\u001b[0m\u001b[0;34m\u001b[0m\u001b[0m\n\u001b[1;32m    109\u001b[0m         \u001b[0mpv\u001b[0m\u001b[0;34m(\u001b[0m\u001b[0;34mf\"{len(splits)} datasets of sizes {','.join([str(len(s)) for s in splits])}\"\u001b[0m\u001b[0;34m,\u001b[0m \u001b[0mverbose\u001b[0m\u001b[0;34m)\u001b[0m\u001b[0;34m\u001b[0m\u001b[0;34m\u001b[0m\u001b[0m\n\u001b[0;32m--> 110\u001b[0;31m         \u001b[0;32mreturn\u001b[0m \u001b[0mDatasets\u001b[0m\u001b[0;34m(\u001b[0m\u001b[0mitems\u001b[0m\u001b[0;34m,\u001b[0m \u001b[0mtfms\u001b[0m\u001b[0;34m=\u001b[0m\u001b[0mself\u001b[0m\u001b[0;34m.\u001b[0m\u001b[0m_combine_type_tfms\u001b[0m\u001b[0;34m(\u001b[0m\u001b[0;34m)\u001b[0m\u001b[0;34m,\u001b[0m \u001b[0msplits\u001b[0m\u001b[0;34m=\u001b[0m\u001b[0msplits\u001b[0m\u001b[0;34m,\u001b[0m \u001b[0mdl_type\u001b[0m\u001b[0;34m=\u001b[0m\u001b[0mself\u001b[0m\u001b[0;34m.\u001b[0m\u001b[0mdl_type\u001b[0m\u001b[0;34m,\u001b[0m \u001b[0mn_inp\u001b[0m\u001b[0;34m=\u001b[0m\u001b[0mself\u001b[0m\u001b[0;34m.\u001b[0m\u001b[0mn_inp\u001b[0m\u001b[0;34m,\u001b[0m \u001b[0mverbose\u001b[0m\u001b[0;34m=\u001b[0m\u001b[0mverbose\u001b[0m\u001b[0;34m)\u001b[0m\u001b[0;34m\u001b[0m\u001b[0;34m\u001b[0m\u001b[0m\n\u001b[0m\u001b[1;32m    111\u001b[0m \u001b[0;34m\u001b[0m\u001b[0m\n\u001b[1;32m    112\u001b[0m     \u001b[0;32mdef\u001b[0m \u001b[0mdataloaders\u001b[0m\u001b[0;34m(\u001b[0m\u001b[0mself\u001b[0m\u001b[0;34m,\u001b[0m \u001b[0msource\u001b[0m\u001b[0;34m,\u001b[0m \u001b[0mpath\u001b[0m\u001b[0;34m=\u001b[0m\u001b[0;34m'.'\u001b[0m\u001b[0;34m,\u001b[0m \u001b[0mverbose\u001b[0m\u001b[0;34m=\u001b[0m\u001b[0;32mFalse\u001b[0m\u001b[0;34m,\u001b[0m \u001b[0;34m**\u001b[0m\u001b[0mkwargs\u001b[0m\u001b[0;34m)\u001b[0m\u001b[0;34m:\u001b[0m\u001b[0;34m\u001b[0m\u001b[0;34m\u001b[0m\u001b[0m\n",
      "\u001b[0;32m~/anaconda3/envs/tfx/lib/python3.8/site-packages/fastai/data/core.py\u001b[0m in \u001b[0;36m__init__\u001b[0;34m(self, items, tfms, tls, n_inp, dl_type, **kwargs)\u001b[0m\n\u001b[1;32m    332\u001b[0m     \u001b[0;32mdef\u001b[0m \u001b[0m__init__\u001b[0m\u001b[0;34m(\u001b[0m\u001b[0mself\u001b[0m\u001b[0;34m,\u001b[0m \u001b[0mitems\u001b[0m\u001b[0;34m=\u001b[0m\u001b[0;32mNone\u001b[0m\u001b[0;34m,\u001b[0m \u001b[0mtfms\u001b[0m\u001b[0;34m=\u001b[0m\u001b[0;32mNone\u001b[0m\u001b[0;34m,\u001b[0m \u001b[0mtls\u001b[0m\u001b[0;34m=\u001b[0m\u001b[0;32mNone\u001b[0m\u001b[0;34m,\u001b[0m \u001b[0mn_inp\u001b[0m\u001b[0;34m=\u001b[0m\u001b[0;32mNone\u001b[0m\u001b[0;34m,\u001b[0m \u001b[0mdl_type\u001b[0m\u001b[0;34m=\u001b[0m\u001b[0;32mNone\u001b[0m\u001b[0;34m,\u001b[0m \u001b[0;34m**\u001b[0m\u001b[0mkwargs\u001b[0m\u001b[0;34m)\u001b[0m\u001b[0;34m:\u001b[0m\u001b[0;34m\u001b[0m\u001b[0;34m\u001b[0m\u001b[0m\n\u001b[1;32m    333\u001b[0m         \u001b[0msuper\u001b[0m\u001b[0;34m(\u001b[0m\u001b[0;34m)\u001b[0m\u001b[0;34m.\u001b[0m\u001b[0m__init__\u001b[0m\u001b[0;34m(\u001b[0m\u001b[0mdl_type\u001b[0m\u001b[0;34m=\u001b[0m\u001b[0mdl_type\u001b[0m\u001b[0;34m)\u001b[0m\u001b[0;34m\u001b[0m\u001b[0;34m\u001b[0m\u001b[0m\n\u001b[0;32m--> 334\u001b[0;31m         \u001b[0mself\u001b[0m\u001b[0;34m.\u001b[0m\u001b[0mtls\u001b[0m \u001b[0;34m=\u001b[0m \u001b[0mL\u001b[0m\u001b[0;34m(\u001b[0m\u001b[0mtls\u001b[0m \u001b[0;32mif\u001b[0m \u001b[0mtls\u001b[0m \u001b[0;32melse\u001b[0m \u001b[0;34m[\u001b[0m\u001b[0mTfmdLists\u001b[0m\u001b[0;34m(\u001b[0m\u001b[0mitems\u001b[0m\u001b[0;34m,\u001b[0m \u001b[0mt\u001b[0m\u001b[0;34m,\u001b[0m \u001b[0;34m**\u001b[0m\u001b[0mkwargs\u001b[0m\u001b[0;34m)\u001b[0m \u001b[0;32mfor\u001b[0m \u001b[0mt\u001b[0m \u001b[0;32min\u001b[0m \u001b[0mL\u001b[0m\u001b[0;34m(\u001b[0m\u001b[0mifnone\u001b[0m\u001b[0;34m(\u001b[0m\u001b[0mtfms\u001b[0m\u001b[0;34m,\u001b[0m\u001b[0;34m[\u001b[0m\u001b[0;32mNone\u001b[0m\u001b[0;34m]\u001b[0m\u001b[0;34m)\u001b[0m\u001b[0;34m)\u001b[0m\u001b[0;34m]\u001b[0m\u001b[0;34m)\u001b[0m\u001b[0;34m\u001b[0m\u001b[0;34m\u001b[0m\u001b[0m\n\u001b[0m\u001b[1;32m    335\u001b[0m         \u001b[0mself\u001b[0m\u001b[0;34m.\u001b[0m\u001b[0mn_inp\u001b[0m \u001b[0;34m=\u001b[0m \u001b[0mifnone\u001b[0m\u001b[0;34m(\u001b[0m\u001b[0mn_inp\u001b[0m\u001b[0;34m,\u001b[0m \u001b[0mmax\u001b[0m\u001b[0;34m(\u001b[0m\u001b[0;36m1\u001b[0m\u001b[0;34m,\u001b[0m \u001b[0mlen\u001b[0m\u001b[0;34m(\u001b[0m\u001b[0mself\u001b[0m\u001b[0;34m.\u001b[0m\u001b[0mtls\u001b[0m\u001b[0;34m)\u001b[0m\u001b[0;34m-\u001b[0m\u001b[0;36m1\u001b[0m\u001b[0;34m)\u001b[0m\u001b[0;34m)\u001b[0m\u001b[0;34m\u001b[0m\u001b[0;34m\u001b[0m\u001b[0m\n\u001b[1;32m    336\u001b[0m \u001b[0;34m\u001b[0m\u001b[0m\n",
      "\u001b[0;32m~/anaconda3/envs/tfx/lib/python3.8/site-packages/fastai/data/core.py\u001b[0m in \u001b[0;36m<listcomp>\u001b[0;34m(.0)\u001b[0m\n\u001b[1;32m    332\u001b[0m     \u001b[0;32mdef\u001b[0m \u001b[0m__init__\u001b[0m\u001b[0;34m(\u001b[0m\u001b[0mself\u001b[0m\u001b[0;34m,\u001b[0m \u001b[0mitems\u001b[0m\u001b[0;34m=\u001b[0m\u001b[0;32mNone\u001b[0m\u001b[0;34m,\u001b[0m \u001b[0mtfms\u001b[0m\u001b[0;34m=\u001b[0m\u001b[0;32mNone\u001b[0m\u001b[0;34m,\u001b[0m \u001b[0mtls\u001b[0m\u001b[0;34m=\u001b[0m\u001b[0;32mNone\u001b[0m\u001b[0;34m,\u001b[0m \u001b[0mn_inp\u001b[0m\u001b[0;34m=\u001b[0m\u001b[0;32mNone\u001b[0m\u001b[0;34m,\u001b[0m \u001b[0mdl_type\u001b[0m\u001b[0;34m=\u001b[0m\u001b[0;32mNone\u001b[0m\u001b[0;34m,\u001b[0m \u001b[0;34m**\u001b[0m\u001b[0mkwargs\u001b[0m\u001b[0;34m)\u001b[0m\u001b[0;34m:\u001b[0m\u001b[0;34m\u001b[0m\u001b[0;34m\u001b[0m\u001b[0m\n\u001b[1;32m    333\u001b[0m         \u001b[0msuper\u001b[0m\u001b[0;34m(\u001b[0m\u001b[0;34m)\u001b[0m\u001b[0;34m.\u001b[0m\u001b[0m__init__\u001b[0m\u001b[0;34m(\u001b[0m\u001b[0mdl_type\u001b[0m\u001b[0;34m=\u001b[0m\u001b[0mdl_type\u001b[0m\u001b[0;34m)\u001b[0m\u001b[0;34m\u001b[0m\u001b[0;34m\u001b[0m\u001b[0m\n\u001b[0;32m--> 334\u001b[0;31m         \u001b[0mself\u001b[0m\u001b[0;34m.\u001b[0m\u001b[0mtls\u001b[0m \u001b[0;34m=\u001b[0m \u001b[0mL\u001b[0m\u001b[0;34m(\u001b[0m\u001b[0mtls\u001b[0m \u001b[0;32mif\u001b[0m \u001b[0mtls\u001b[0m \u001b[0;32melse\u001b[0m \u001b[0;34m[\u001b[0m\u001b[0mTfmdLists\u001b[0m\u001b[0;34m(\u001b[0m\u001b[0mitems\u001b[0m\u001b[0;34m,\u001b[0m \u001b[0mt\u001b[0m\u001b[0;34m,\u001b[0m \u001b[0;34m**\u001b[0m\u001b[0mkwargs\u001b[0m\u001b[0;34m)\u001b[0m \u001b[0;32mfor\u001b[0m \u001b[0mt\u001b[0m \u001b[0;32min\u001b[0m \u001b[0mL\u001b[0m\u001b[0;34m(\u001b[0m\u001b[0mifnone\u001b[0m\u001b[0;34m(\u001b[0m\u001b[0mtfms\u001b[0m\u001b[0;34m,\u001b[0m\u001b[0;34m[\u001b[0m\u001b[0;32mNone\u001b[0m\u001b[0;34m]\u001b[0m\u001b[0;34m)\u001b[0m\u001b[0;34m)\u001b[0m\u001b[0;34m]\u001b[0m\u001b[0;34m)\u001b[0m\u001b[0;34m\u001b[0m\u001b[0;34m\u001b[0m\u001b[0m\n\u001b[0m\u001b[1;32m    335\u001b[0m         \u001b[0mself\u001b[0m\u001b[0;34m.\u001b[0m\u001b[0mn_inp\u001b[0m \u001b[0;34m=\u001b[0m \u001b[0mifnone\u001b[0m\u001b[0;34m(\u001b[0m\u001b[0mn_inp\u001b[0m\u001b[0;34m,\u001b[0m \u001b[0mmax\u001b[0m\u001b[0;34m(\u001b[0m\u001b[0;36m1\u001b[0m\u001b[0;34m,\u001b[0m \u001b[0mlen\u001b[0m\u001b[0;34m(\u001b[0m\u001b[0mself\u001b[0m\u001b[0;34m.\u001b[0m\u001b[0mtls\u001b[0m\u001b[0;34m)\u001b[0m\u001b[0;34m-\u001b[0m\u001b[0;36m1\u001b[0m\u001b[0;34m)\u001b[0m\u001b[0;34m)\u001b[0m\u001b[0;34m\u001b[0m\u001b[0;34m\u001b[0m\u001b[0m\n\u001b[1;32m    336\u001b[0m \u001b[0;34m\u001b[0m\u001b[0m\n",
      "\u001b[0;32m~/anaconda3/envs/tfx/lib/python3.8/site-packages/fastcore/foundation.py\u001b[0m in \u001b[0;36m__call__\u001b[0;34m(cls, x, *args, **kwargs)\u001b[0m\n\u001b[1;32m     95\u001b[0m     \u001b[0;32mdef\u001b[0m \u001b[0m__call__\u001b[0m\u001b[0;34m(\u001b[0m\u001b[0mcls\u001b[0m\u001b[0;34m,\u001b[0m \u001b[0mx\u001b[0m\u001b[0;34m=\u001b[0m\u001b[0;32mNone\u001b[0m\u001b[0;34m,\u001b[0m \u001b[0;34m*\u001b[0m\u001b[0margs\u001b[0m\u001b[0;34m,\u001b[0m \u001b[0;34m**\u001b[0m\u001b[0mkwargs\u001b[0m\u001b[0;34m)\u001b[0m\u001b[0;34m:\u001b[0m\u001b[0;34m\u001b[0m\u001b[0;34m\u001b[0m\u001b[0m\n\u001b[1;32m     96\u001b[0m         \u001b[0;32mif\u001b[0m \u001b[0;32mnot\u001b[0m \u001b[0margs\u001b[0m \u001b[0;32mand\u001b[0m \u001b[0;32mnot\u001b[0m \u001b[0mkwargs\u001b[0m \u001b[0;32mand\u001b[0m \u001b[0mx\u001b[0m \u001b[0;32mis\u001b[0m \u001b[0;32mnot\u001b[0m \u001b[0;32mNone\u001b[0m \u001b[0;32mand\u001b[0m \u001b[0misinstance\u001b[0m\u001b[0;34m(\u001b[0m\u001b[0mx\u001b[0m\u001b[0;34m,\u001b[0m\u001b[0mcls\u001b[0m\u001b[0;34m)\u001b[0m\u001b[0;34m:\u001b[0m \u001b[0;32mreturn\u001b[0m \u001b[0mx\u001b[0m\u001b[0;34m\u001b[0m\u001b[0;34m\u001b[0m\u001b[0m\n\u001b[0;32m---> 97\u001b[0;31m         \u001b[0;32mreturn\u001b[0m \u001b[0msuper\u001b[0m\u001b[0;34m(\u001b[0m\u001b[0;34m)\u001b[0m\u001b[0;34m.\u001b[0m\u001b[0m__call__\u001b[0m\u001b[0;34m(\u001b[0m\u001b[0mx\u001b[0m\u001b[0;34m,\u001b[0m \u001b[0;34m*\u001b[0m\u001b[0margs\u001b[0m\u001b[0;34m,\u001b[0m \u001b[0;34m**\u001b[0m\u001b[0mkwargs\u001b[0m\u001b[0;34m)\u001b[0m\u001b[0;34m\u001b[0m\u001b[0;34m\u001b[0m\u001b[0m\n\u001b[0m\u001b[1;32m     98\u001b[0m \u001b[0;34m\u001b[0m\u001b[0m\n\u001b[1;32m     99\u001b[0m \u001b[0;31m# Cell\u001b[0m\u001b[0;34m\u001b[0m\u001b[0;34m\u001b[0m\u001b[0;34m\u001b[0m\u001b[0m\n",
      "\u001b[0;32m~/anaconda3/envs/tfx/lib/python3.8/site-packages/fastai/data/core.py\u001b[0m in \u001b[0;36m__init__\u001b[0;34m(self, items, tfms, use_list, do_setup, split_idx, train_setup, splits, types, verbose, dl_type)\u001b[0m\n\u001b[1;32m    255\u001b[0m         \u001b[0;32mif\u001b[0m \u001b[0mdo_setup\u001b[0m\u001b[0;34m:\u001b[0m\u001b[0;34m\u001b[0m\u001b[0;34m\u001b[0m\u001b[0m\n\u001b[1;32m    256\u001b[0m             \u001b[0mpv\u001b[0m\u001b[0;34m(\u001b[0m\u001b[0;34mf\"Setting up {self.tfms}\"\u001b[0m\u001b[0;34m,\u001b[0m \u001b[0mverbose\u001b[0m\u001b[0;34m)\u001b[0m\u001b[0;34m\u001b[0m\u001b[0;34m\u001b[0m\u001b[0m\n\u001b[0;32m--> 257\u001b[0;31m             \u001b[0mself\u001b[0m\u001b[0;34m.\u001b[0m\u001b[0msetup\u001b[0m\u001b[0;34m(\u001b[0m\u001b[0mtrain_setup\u001b[0m\u001b[0;34m=\u001b[0m\u001b[0mtrain_setup\u001b[0m\u001b[0;34m)\u001b[0m\u001b[0;34m\u001b[0m\u001b[0;34m\u001b[0m\u001b[0m\n\u001b[0m\u001b[1;32m    258\u001b[0m \u001b[0;34m\u001b[0m\u001b[0m\n\u001b[1;32m    259\u001b[0m     \u001b[0;32mdef\u001b[0m \u001b[0m_new\u001b[0m\u001b[0;34m(\u001b[0m\u001b[0mself\u001b[0m\u001b[0;34m,\u001b[0m \u001b[0mitems\u001b[0m\u001b[0;34m,\u001b[0m \u001b[0msplit_idx\u001b[0m\u001b[0;34m=\u001b[0m\u001b[0;32mNone\u001b[0m\u001b[0;34m,\u001b[0m \u001b[0;34m**\u001b[0m\u001b[0mkwargs\u001b[0m\u001b[0;34m)\u001b[0m\u001b[0;34m:\u001b[0m\u001b[0;34m\u001b[0m\u001b[0;34m\u001b[0m\u001b[0m\n",
      "\u001b[0;32m~/anaconda3/envs/tfx/lib/python3.8/site-packages/fastai/data/core.py\u001b[0m in \u001b[0;36msetup\u001b[0;34m(self, train_setup)\u001b[0m\n\u001b[1;32m    282\u001b[0m                 \u001b[0mx\u001b[0m \u001b[0;34m=\u001b[0m \u001b[0mf\u001b[0m\u001b[0;34m(\u001b[0m\u001b[0mx\u001b[0m\u001b[0;34m)\u001b[0m\u001b[0;34m\u001b[0m\u001b[0;34m\u001b[0m\u001b[0m\n\u001b[1;32m    283\u001b[0m             \u001b[0mself\u001b[0m\u001b[0;34m.\u001b[0m\u001b[0mtypes\u001b[0m\u001b[0;34m.\u001b[0m\u001b[0mappend\u001b[0m\u001b[0;34m(\u001b[0m\u001b[0mtype\u001b[0m\u001b[0;34m(\u001b[0m\u001b[0mx\u001b[0m\u001b[0;34m)\u001b[0m\u001b[0;34m)\u001b[0m\u001b[0;34m\u001b[0m\u001b[0;34m\u001b[0m\u001b[0m\n\u001b[0;32m--> 284\u001b[0;31m         \u001b[0mtypes\u001b[0m \u001b[0;34m=\u001b[0m \u001b[0mL\u001b[0m\u001b[0;34m(\u001b[0m\u001b[0mt\u001b[0m \u001b[0;32mif\u001b[0m \u001b[0mis_listy\u001b[0m\u001b[0;34m(\u001b[0m\u001b[0mt\u001b[0m\u001b[0;34m)\u001b[0m \u001b[0;32melse\u001b[0m \u001b[0;34m[\u001b[0m\u001b[0mt\u001b[0m\u001b[0;34m]\u001b[0m \u001b[0;32mfor\u001b[0m \u001b[0mt\u001b[0m \u001b[0;32min\u001b[0m \u001b[0mself\u001b[0m\u001b[0;34m.\u001b[0m\u001b[0mtypes\u001b[0m\u001b[0;34m)\u001b[0m\u001b[0;34m.\u001b[0m\u001b[0mconcat\u001b[0m\u001b[0;34m(\u001b[0m\u001b[0;34m)\u001b[0m\u001b[0;34m.\u001b[0m\u001b[0munique\u001b[0m\u001b[0;34m(\u001b[0m\u001b[0;34m)\u001b[0m\u001b[0;34m\u001b[0m\u001b[0;34m\u001b[0m\u001b[0m\n\u001b[0m\u001b[1;32m    285\u001b[0m         \u001b[0mself\u001b[0m\u001b[0;34m.\u001b[0m\u001b[0mpretty_types\u001b[0m \u001b[0;34m=\u001b[0m \u001b[0;34m'\\n'\u001b[0m\u001b[0;34m.\u001b[0m\u001b[0mjoin\u001b[0m\u001b[0;34m(\u001b[0m\u001b[0;34m[\u001b[0m\u001b[0;34mf'  - {t}'\u001b[0m \u001b[0;32mfor\u001b[0m \u001b[0mt\u001b[0m \u001b[0;32min\u001b[0m \u001b[0mtypes\u001b[0m\u001b[0;34m]\u001b[0m\u001b[0;34m)\u001b[0m\u001b[0;34m\u001b[0m\u001b[0;34m\u001b[0m\u001b[0m\n\u001b[1;32m    286\u001b[0m \u001b[0;34m\u001b[0m\u001b[0m\n",
      "\u001b[0;31mTypeError\u001b[0m: 'NoneType' object is not iterable"
     ]
    }
   ],
   "source": [
    "dls = dblock.dataloaders(dst_path)"
   ]
  },
  {
   "cell_type": "code",
   "execution_count": 18,
   "id": "2ae136ac",
   "metadata": {},
   "outputs": [],
   "source": [
    "learn = cnn_learner(dls, resnet34, metrics=accuracy)"
   ]
  },
  {
   "cell_type": "code",
   "execution_count": 19,
   "id": "6241f334",
   "metadata": {},
   "outputs": [
    {
     "data": {
      "text/plain": [
       "<fastai.learner.Learner at 0x7fa5bc3cc580>"
      ]
     },
     "execution_count": 19,
     "metadata": {},
     "output_type": "execute_result"
    }
   ],
   "source": [
    "learn.load(\"sound_model_V1\")"
   ]
  },
  {
   "cell_type": "code",
   "execution_count": 20,
   "id": "d8bd7da5",
   "metadata": {},
   "outputs": [
    {
     "data": {
      "text/html": [
       "\n",
       "<style>\n",
       "    /* Turns off some styling */\n",
       "    progress {\n",
       "        /* gets rid of default border in Firefox and Opera. */\n",
       "        border: none;\n",
       "        /* Needs to be in here for Safari polyfill so background images work as expected. */\n",
       "        background-size: auto;\n",
       "    }\n",
       "    .progress-bar-interrupted, .progress-bar-interrupted::-webkit-progress-bar {\n",
       "        background: #F44336;\n",
       "    }\n",
       "</style>\n"
      ],
      "text/plain": [
       "<IPython.core.display.HTML object>"
      ]
     },
     "metadata": {},
     "output_type": "display_data"
    },
    {
     "data": {
      "text/html": [],
      "text/plain": [
       "<IPython.core.display.HTML object>"
      ]
     },
     "metadata": {},
     "output_type": "display_data"
    },
    {
     "data": {
      "image/png": "[encoded data removed]",
      "text/plain": [
       "<Figure size 432x288 with 1 Axes>"
      ]
     },
     "metadata": {
      "needs_background": "light"
     },
     "output_type": "display_data"
    }
   ],
   "source": [
    "lr = learn.lr_find()"
   ]
  },
  {
   "cell_type": "code",
   "execution_count": 21,
   "id": "448f0dde",
   "metadata": {},
   "outputs": [],
   "source": [
    "lrate = lr.valley"
   ]
  },
  {
   "cell_type": "code",
   "execution_count": 22,
   "id": "3f4eca1b",
   "metadata": {},
   "outputs": [
    {
     "data": {
      "text/html": [
       "\n",
       "<style>\n",
       "    /* Turns off some styling */\n",
       "    progress {\n",
       "        /* gets rid of default border in Firefox and Opera. */\n",
       "        border: none;\n",
       "        /* Needs to be in here for Safari polyfill so background images work as expected. */\n",
       "        background-size: auto;\n",
       "    }\n",
       "    .progress-bar-interrupted, .progress-bar-interrupted::-webkit-progress-bar {\n",
       "        background: #F44336;\n",
       "    }\n",
       "</style>\n"
      ],
      "text/plain": [
       "<IPython.core.display.HTML object>"
      ]
     },
     "metadata": {},
     "output_type": "display_data"
    },
    {
     "data": {
      "text/html": [
       "<table border=\"1\" class=\"dataframe\">\n",
       "  <thead>\n",
       "    <tr style=\"text-align: left;\">\n",
       "      <th>epoch</th>\n",
       "      <th>train_loss</th>\n",
       "      <th>valid_loss</th>\n",
       "      <th>accuracy</th>\n",
       "      <th>time</th>\n",
       "    </tr>\n",
       "  </thead>\n",
       "  <tbody>\n",
       "    <tr>\n",
       "      <td>0</td>\n",
       "      <td>0.932528</td>\n",
       "      <td>1.130688</td>\n",
       "      <td>0.678986</td>\n",
       "      <td>00:08</td>\n",
       "    </tr>\n",
       "  </tbody>\n",
       "</table>"
      ],
      "text/plain": [
       "<IPython.core.display.HTML object>"
      ]
     },
     "metadata": {},
     "output_type": "display_data"
    },
    {
     "data": {
      "text/html": [
       "\n",
       "<style>\n",
       "    /* Turns off some styling */\n",
       "    progress {\n",
       "        /* gets rid of default border in Firefox and Opera. */\n",
       "        border: none;\n",
       "        /* Needs to be in here for Safari polyfill so background images work as expected. */\n",
       "        background-size: auto;\n",
       "    }\n",
       "    .progress-bar-interrupted, .progress-bar-interrupted::-webkit-progress-bar {\n",
       "        background: #F44336;\n",
       "    }\n",
       "</style>\n"
      ],
      "text/plain": [
       "<IPython.core.display.HTML object>"
      ]
     },
     "metadata": {},
     "output_type": "display_data"
    },
    {
     "data": {
      "text/html": [
       "<table border=\"1\" class=\"dataframe\">\n",
       "  <thead>\n",
       "    <tr style=\"text-align: left;\">\n",
       "      <th>epoch</th>\n",
       "      <th>train_loss</th>\n",
       "      <th>valid_loss</th>\n",
       "      <th>accuracy</th>\n",
       "      <th>time</th>\n",
       "    </tr>\n",
       "  </thead>\n",
       "  <tbody>\n",
       "    <tr>\n",
       "      <td>0</td>\n",
       "      <td>0.911019</td>\n",
       "      <td>1.084895</td>\n",
       "      <td>0.708553</td>\n",
       "      <td>00:10</td>\n",
       "    </tr>\n",
       "    <tr>\n",
       "      <td>1</td>\n",
       "      <td>0.954422</td>\n",
       "      <td>1.207166</td>\n",
       "      <td>0.675818</td>\n",
       "      <td>00:10</td>\n",
       "    </tr>\n",
       "    <tr>\n",
       "      <td>2</td>\n",
       "      <td>1.005210</td>\n",
       "      <td>1.130533</td>\n",
       "      <td>0.690074</td>\n",
       "      <td>00:10</td>\n",
       "    </tr>\n",
       "    <tr>\n",
       "      <td>3</td>\n",
       "      <td>0.865008</td>\n",
       "      <td>1.061983</td>\n",
       "      <td>0.717529</td>\n",
       "      <td>00:10</td>\n",
       "    </tr>\n",
       "    <tr>\n",
       "      <td>4</td>\n",
       "      <td>0.722203</td>\n",
       "      <td>1.035566</td>\n",
       "      <td>0.727561</td>\n",
       "      <td>00:10</td>\n",
       "    </tr>\n",
       "    <tr>\n",
       "      <td>5</td>\n",
       "      <td>0.591072</td>\n",
       "      <td>0.965613</td>\n",
       "      <td>0.747624</td>\n",
       "      <td>00:10</td>\n",
       "    </tr>\n",
       "    <tr>\n",
       "      <td>6</td>\n",
       "      <td>0.496883</td>\n",
       "      <td>0.941033</td>\n",
       "      <td>0.751848</td>\n",
       "      <td>00:10</td>\n",
       "    </tr>\n",
       "    <tr>\n",
       "      <td>7</td>\n",
       "      <td>0.445700</td>\n",
       "      <td>0.936397</td>\n",
       "      <td>0.758184</td>\n",
       "      <td>00:10</td>\n",
       "    </tr>\n",
       "  </tbody>\n",
       "</table>"
      ],
      "text/plain": [
       "<IPython.core.display.HTML object>"
      ]
     },
     "metadata": {},
     "output_type": "display_data"
    }
   ],
   "source": [
    "learn.fine_tune(8, lrate)"
   ]
  },
  {
   "cell_type": "code",
   "execution_count": null,
   "id": "72703997",
   "metadata": {},
   "outputs": [],
   "source": []
  }
 ],
 "metadata": {
  "kernelspec": {
   "display_name": "tfx",
   "language": "python",
   "name": "tfx"
  },
  "language_info": {
   "codemirror_mode": {
    "name": "ipython",
    "version": 3
   },
   "file_extension": ".py",
   "mimetype": "text/x-python",
   "name": "python",
   "nbconvert_exporter": "python",
   "pygments_lexer": "ipython3",
   "version": "3.8.13"
  }
 },
 "nbformat": 4,
 "nbformat_minor": 5
}
