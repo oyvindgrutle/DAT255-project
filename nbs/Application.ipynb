{
 "cells": [
  {
   "cell_type": "code",
   "execution_count": 19,
   "metadata": {},
   "outputs": [],
   "source": [
    "import librosa\n",
    "import librosa.display\n",
    "from IPython.display import Audio\n",
    "import pathlib\n",
    "from pathlib import Path\n",
    "import os\n",
    "from fastai.vision.all import *\n",
    "from fastai.vision.widgets import *\n",
    "import torchvision"
   ]
  },
  {
   "cell_type": "code",
   "execution_count": 20,
   "metadata": {},
   "outputs": [],
   "source": [
    "path = Path('../')\n",
    "model_path = path/'models'\n",
    "\n",
    "try:\n",
    "    learn_inf = load_learner(model_path/'sound_model_V1')\n",
    "except:\n",
    "    posix_backup = pathlib.PosixPath\n",
    "    pathlib.PosixPath = pathlib.WindowsPath\n",
    "    learn_inf = load_learner(model_path/'sound_model_V1')\n",
    "    pathlib.PosixPath = posix_backup\n",
    "    \n",
    "btn_upload = widgets.FileUpload(accept=\".wav,.mp3\")\n",
    "out_pl = widgets.Output()\n",
    "lbl_pred = widgets.Label()\n",
    "lbl_pred.value = 'Please select audio'"
   ]
  },
  {
   "cell_type": "code",
   "execution_count": 21,
   "metadata": {},
   "outputs": [],
   "source": [
    "def log_mel_spec_tfm(audio_upload, dst_path = path/'../data/imgs/uploaded'):\n",
    "    data, sample_rate = librosa.load(io.BytesIO(audio_upload.data[-1]))\n",
    "    \n",
    "    n_fft = 1024\n",
    "    hop_length = 512\n",
    "    n_mels = 80\n",
    "    fmin = 20\n",
    "    fmax = sample_rate / 2 \n",
    "    \n",
    "    mel_spec_power = librosa.feature.melspectrogram(data, sr=sample_rate, n_fft=n_fft, \n",
    "                                                    hop_length=hop_length, \n",
    "                                                    n_mels=n_mels, power=2.0, \n",
    "                                                    fmin=fmin, fmax=fmax)\n",
    "    \n",
    "    #mel_spec_power = librosa.feature.melspectrogram(x, sr=sample_rate)\n",
    "    \n",
    "    mel_spec_db = librosa.power_to_db(mel_spec_power, ref=np.max)\n",
    "    \n",
    "    \n",
    "    dst_path.mkdir(exist_ok=True)\n",
    "    fname = list(audio_upload.value)[0]\n",
    "    \n",
    "    plt.imsave(dst_path / (fname[:-4] + '.png'), mel_spec_db)\n",
    "    \n",
    "    return dst_path / (fname[:-4] + '.png')"
   ]
  },
  {
   "cell_type": "code",
   "execution_count": 22,
   "metadata": {},
   "outputs": [],
   "source": [
    "def on_click_classify(change):\n",
    "    out_pl.clear_output()\n",
    "    with out_pl: display(Audio(btn_upload.data[-1]))\n",
    "    dst_path = path/'../data/imgs/uploaded'\n",
    "    audio_img = log_mel_spec_tfm(btn_upload, dst_path)\n",
    "    pred,pred_idx,probs = learn_inf.predict(audio_img)\n",
    "    lbl_pred.value = f'Prediction: {pred}; Probability: {probs[pred_idx]:.04f}'"
   ]
  },
  {
   "cell_type": "code",
   "execution_count": 23,
   "metadata": {},
   "outputs": [],
   "source": [
    "btn_upload.observe(on_click_classify, names=['data'])"
   ]
  },
  {
   "cell_type": "code",
   "execution_count": 24,
   "metadata": {},
   "outputs": [
    {
     "data": {
      "application/vnd.jupyter.widget-view+json": {
       "model_id": "74adb741b1a34a28b30a741bcfb6a1ac",
       "version_major": 2,
       "version_minor": 0
      },
      "text/plain": [
       "VBox(children=(Label(value='Select your audio'), FileUpload(value={}, accept='.wav,.mp3', description='Upload'…"
      ]
     },
     "metadata": {},
     "output_type": "display_data"
    }
   ],
   "source": [
    "widgets.VBox([widgets.Label('Select your audio'),\n",
    "      btn_upload, out_pl, lbl_pred])"
   ]
  },
  {
   "cell_type": "code",
   "execution_count": 25,
   "metadata": {},
   "outputs": [],
   "source": [
    "#!pip install voila"
   ]
  },
  {
   "cell_type": "code",
   "execution_count": 27,
   "metadata": {},
   "outputs": [
    {
     "name": "stderr",
     "output_type": "stream",
     "text": [
      "Searching ['C:\\\\Users\\\\Jens\\\\Documents\\\\V22\\\\DAT255\\\\DAT255-project\\\\nbs', 'C:\\\\Users\\\\Jens\\\\.jupyter', 'C:\\\\Users\\\\Jens\\\\anaconda3\\\\etc\\\\jupyter', 'C:\\\\ProgramData\\\\jupyter'] for config files\n",
      "Looking for jupyter_config in C:\\ProgramData\\jupyter\n",
      "Looking for jupyter_config in C:\\Users\\Jens\\anaconda3\\etc\\jupyter\n",
      "Looking for jupyter_config in C:\\Users\\Jens\\.jupyter\n",
      "Looking for jupyter_config in C:\\Users\\Jens\\Documents\\V22\\DAT255\\DAT255-project\\nbs\n",
      "Looking for jupyter serverextension enable_config in C:\\ProgramData\\jupyter\n",
      "Looking for jupyter serverextension enable_config in C:\\Users\\Jens\\anaconda3\\etc\\jupyter\n",
      "Looking for jupyter serverextension enable_config in C:\\Users\\Jens\\.jupyter\n",
      "Looking for jupyter serverextension enable_config in C:\\Users\\Jens\\Documents\\V22\\DAT255\\DAT255-project\\nbs\n",
      "Paths used for configuration of jupyter_notebook_config: \n",
      "    \tC:\\Users\\Jens\\anaconda3\\etc\\jupyter\\jupyter_notebook_config.d\\jupyterlab.json\n",
      "    \tC:\\Users\\Jens\\anaconda3\\etc\\jupyter\\jupyter_notebook_config.d\\voila.json\n",
      "    \tC:\\Users\\Jens\\anaconda3\\etc\\jupyter\\jupyter_notebook_config.json\n",
      "Enabling: voila\n",
      "- Writing config: C:\\Users\\Jens\\anaconda3\\etc\\jupyter\n",
      "Paths used for configuration of jupyter_notebook_config: \n",
      "    \tC:\\Users\\Jens\\anaconda3\\etc\\jupyter\\jupyter_notebook_config.d\\jupyterlab.json\n",
      "    \tC:\\Users\\Jens\\anaconda3\\etc\\jupyter\\jupyter_notebook_config.d\\voila.json\n",
      "    \tC:\\Users\\Jens\\anaconda3\\etc\\jupyter\\jupyter_notebook_config.json\n",
      "Paths used for configuration of jupyter_notebook_config: \n",
      "    \tC:\\Users\\Jens\\anaconda3\\etc\\jupyter\\jupyter_notebook_config.d\\jupyterlab.json\n",
      "    \tC:\\Users\\Jens\\anaconda3\\etc\\jupyter\\jupyter_notebook_config.d\\voila.json\n",
      "    - Validating...\n",
      "      voila 0.3.5 ok\n"
     ]
    }
   ],
   "source": [
    "!jupyter serverextension enable voila --sys-prefix --debug"
   ]
  },
  {
   "cell_type": "code",
   "execution_count": null,
   "metadata": {},
   "outputs": [],
   "source": []
  }
 ],
 "metadata": {
  "kernelspec": {
   "display_name": "Python 3",
   "language": "python",
   "name": "python3"
  },
  "language_info": {
   "codemirror_mode": {
    "name": "ipython",
    "version": 3
   },
   "file_extension": ".py",
   "mimetype": "text/x-python",
   "name": "python",
   "nbconvert_exporter": "python",
   "pygments_lexer": "ipython3",
   "version": "3.8.5"
  }
 },
 "nbformat": 4,
 "nbformat_minor": 4
}
